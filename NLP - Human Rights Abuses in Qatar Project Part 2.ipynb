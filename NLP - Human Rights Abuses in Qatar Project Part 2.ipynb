{
 "cells": [
  {
   "cell_type": "markdown",
   "id": "e2b549b4",
   "metadata": {},
   "source": [
    "# Latent Dirichlet Allocation (LDA) - Human Rights Abuses in Qatar Part 2"
   ]
  },
  {
   "cell_type": "markdown",
   "id": "0945a0ed",
   "metadata": {},
   "source": [
    "For Part 2 of this project, we basically apply advanced Topic Modelling algorithm ~ Latent Dirichlet Allocation (LDA) with TFIDFVectorizer() and Countvectorizer() and compare the results. The main objective is to derive meaningful and interpretable topics from our documents. We will also compare these results with our wordcloud topics extracted from the reports to see if there are any similarities between the document Topics and the results of the Model.\n",
    "\n",
    "**The project Objectives for Part 2 of this project :**\n",
    "\n",
    "**1. Determine DF cutoffs**\n",
    " - Filtering top words\n",
    "\n",
    "\n",
    "**2. Find Optimal Number of Topics using Average Topic Coherence**\n",
    " - We use both CountVectorizer() and TfidfVectorizer() to check how consistent the suggested topics are.\n",
    "\n",
    "\n",
    "**3. LDA with CountVectorizer()**\n",
    " - simply counts the number of times a word appears in a document (using a bag-of-words approach)\n",
    " \n",
    " \n",
    "**4. LDA with TFIDFVectorizer()**\n",
    " - takes into account not only how many times a word appears in a document but also how important that word is to the whole corpus\n",
    "\n",
    "\n",
    "**5. Find Optimal parameters of Alpha and Beta**\n",
    " - We try setting different initial values for LDA generative process parameters."
   ]
  },
  {
   "cell_type": "markdown",
   "id": "48c8a66f",
   "metadata": {},
   "source": [
    "### Libraries"
   ]
  },
  {
   "cell_type": "code",
   "execution_count": 26,
   "id": "20d55cef",
   "metadata": {},
   "outputs": [],
   "source": [
    "import nltk\n",
    "import nltk.corpus\n",
    "from nltk.corpus import stopwords\n",
    "from nltk.stem import PorterStemmer # for stemming\n",
    "from nltk.tokenize import word_tokenize # for tokenization\n",
    "from nltk.corpus.reader.plaintext import PlaintextCorpusReader"
   ]
  },
  {
   "cell_type": "code",
   "execution_count": 27,
   "id": "1326c319",
   "metadata": {},
   "outputs": [],
   "source": [
    "import re\n",
    "import math\n",
    "import warnings\n",
    "import itertools\n",
    "import plotly.express as px # for nice plotting\n",
    "import pandas as pd\n",
    "import matplotlib.pyplot as plt"
   ]
  },
  {
   "cell_type": "code",
   "execution_count": 28,
   "id": "8a6d0119",
   "metadata": {},
   "outputs": [],
   "source": [
    "from gensim import corpora # for: Dictionary(), word2bow()\n",
    "from nltk.tokenize import RegexpTokenizer # for LSA in sklearn, we will need additional tokenizer\n",
    "from sklearn.feature_extraction.text import CountVectorizer # one can consider LSA with DF in DTM...\n",
    "from sklearn.feature_extraction.text import TfidfVectorizer # or with TF-IDF values in DTM\n",
    "from sklearn.decomposition import LatentDirichletAllocation # LDA implementation"
   ]
  },
  {
   "cell_type": "code",
   "execution_count": 29,
   "id": "502050ee",
   "metadata": {},
   "outputs": [],
   "source": [
    "# import dataset tokenised_data\n",
    "\n",
    "import pickle \n",
    "with open(\"outputs/df_qatar.pkl\", \"rb\") as fp:\n",
    "    df_qatar = pickle.load(fp)\n",
    "    \n",
    "with open(\"outputs/topic_clean.pkl\", \"rb\") as fp:\n",
    "    topic_clean = pickle.load(fp)"
   ]
  },
  {
   "cell_type": "code",
   "execution_count": 30,
   "id": "c0801d52",
   "metadata": {},
   "outputs": [
    {
     "data": {
      "text/html": [
       "<div>\n",
       "<style scoped>\n",
       "    .dataframe tbody tr th:only-of-type {\n",
       "        vertical-align: middle;\n",
       "    }\n",
       "\n",
       "    .dataframe tbody tr th {\n",
       "        vertical-align: top;\n",
       "    }\n",
       "\n",
       "    .dataframe thead th {\n",
       "        text-align: right;\n",
       "    }\n",
       "</style>\n",
       "<table border=\"1\" class=\"dataframe\">\n",
       "  <thead>\n",
       "    <tr style=\"text-align: right;\">\n",
       "      <th></th>\n",
       "      <th>stemmed_tokens</th>\n",
       "      <th>qatar_tokens</th>\n",
       "      <th>qatar_texts</th>\n",
       "      <th>qatar_tokens_gensim</th>\n",
       "      <th>qatar_text_gensim</th>\n",
       "    </tr>\n",
       "  </thead>\n",
       "  <tbody>\n",
       "    <tr>\n",
       "      <th>0</th>\n",
       "      <td>[qatar, submiss, to, the, un, univers, period,...</td>\n",
       "      <td>[qatar, submission, un, universal, periodic, r...</td>\n",
       "      <td>qatar submission un universal periodic review ...</td>\n",
       "      <td>[qatar, submission_un, universal_periodic, rev...</td>\n",
       "      <td>qatar submission_un universal_periodic review ...</td>\n",
       "    </tr>\n",
       "    <tr>\n",
       "      <th>1</th>\n",
       "      <td>[qatar, submiss, to, the, un, univers, period,...</td>\n",
       "      <td>[qatar, submission, un, universal, periodic, r...</td>\n",
       "      <td>qatar submission un universal periodic review ...</td>\n",
       "      <td>[qatar, submission_un, universal_periodic, rev...</td>\n",
       "      <td>qatar submission_un universal_periodic review ...</td>\n",
       "    </tr>\n",
       "    <tr>\n",
       "      <th>2</th>\n",
       "      <td>[qatar, submiss, to, the, un, univers, period,...</td>\n",
       "      <td>[qatar, submission, un, universal, periodic, e...</td>\n",
       "      <td>qatar submission un universal periodic eview s...</td>\n",
       "      <td>[qatar, submission_un, universal_periodic, evi...</td>\n",
       "      <td>qatar submission_un universal_periodic eview s...</td>\n",
       "    </tr>\n",
       "    <tr>\n",
       "      <th>3</th>\n",
       "      <td>[qatar, submiss, to, the, un, univers, period,...</td>\n",
       "      <td>[qatar, submission, un, universal, periodic, r...</td>\n",
       "      <td>qatar submission un universal periodic review ...</td>\n",
       "      <td>[qatar, submission_un, universal_periodic, rev...</td>\n",
       "      <td>qatar submission_un universal_periodic review ...</td>\n",
       "    </tr>\n",
       "    <tr>\n",
       "      <th>4</th>\n",
       "      <td>[qatar, submiss, to, the, un, univers, period,...</td>\n",
       "      <td>[qatar, submission, un, universal, periodic, e...</td>\n",
       "      <td>qatar submission un universal periodic eview s...</td>\n",
       "      <td>[qatar, submission_un, universal_periodic, evi...</td>\n",
       "      <td>qatar submission_un universal_periodic eview s...</td>\n",
       "    </tr>\n",
       "  </tbody>\n",
       "</table>\n",
       "</div>"
      ],
      "text/plain": [
       "                                      stemmed_tokens  \\\n",
       "0  [qatar, submiss, to, the, un, univers, period,...   \n",
       "1  [qatar, submiss, to, the, un, univers, period,...   \n",
       "2  [qatar, submiss, to, the, un, univers, period,...   \n",
       "3  [qatar, submiss, to, the, un, univers, period,...   \n",
       "4  [qatar, submiss, to, the, un, univers, period,...   \n",
       "\n",
       "                                        qatar_tokens  \\\n",
       "0  [qatar, submission, un, universal, periodic, r...   \n",
       "1  [qatar, submission, un, universal, periodic, r...   \n",
       "2  [qatar, submission, un, universal, periodic, e...   \n",
       "3  [qatar, submission, un, universal, periodic, r...   \n",
       "4  [qatar, submission, un, universal, periodic, e...   \n",
       "\n",
       "                                         qatar_texts  \\\n",
       "0  qatar submission un universal periodic review ...   \n",
       "1  qatar submission un universal periodic review ...   \n",
       "2  qatar submission un universal periodic eview s...   \n",
       "3  qatar submission un universal periodic review ...   \n",
       "4  qatar submission un universal periodic eview s...   \n",
       "\n",
       "                                 qatar_tokens_gensim  \\\n",
       "0  [qatar, submission_un, universal_periodic, rev...   \n",
       "1  [qatar, submission_un, universal_periodic, rev...   \n",
       "2  [qatar, submission_un, universal_periodic, evi...   \n",
       "3  [qatar, submission_un, universal_periodic, rev...   \n",
       "4  [qatar, submission_un, universal_periodic, evi...   \n",
       "\n",
       "                                   qatar_text_gensim  \n",
       "0  qatar submission_un universal_periodic review ...  \n",
       "1  qatar submission_un universal_periodic review ...  \n",
       "2  qatar submission_un universal_periodic eview s...  \n",
       "3  qatar submission_un universal_periodic review ...  \n",
       "4  qatar submission_un universal_periodic eview s...  "
      ]
     },
     "execution_count": 30,
     "metadata": {},
     "output_type": "execute_result"
    }
   ],
   "source": [
    "# review dataset\n",
    "df_qatar.head()"
   ]
  },
  {
   "cell_type": "code",
   "execution_count": 43,
   "id": "87c1b528",
   "metadata": {},
   "outputs": [
    {
     "data": {
      "image/png": "[encoded data removed]",
      "text/plain": [
       "<Figure size 1296x864 with 1 Axes>"
      ]
     },
     "metadata": {},
     "output_type": "display_data"
    }
   ],
   "source": [
    "from wordcloud import WordCloud\n",
    "cloud = WordCloud(scale=3,\n",
    "                      max_words=150,\n",
    "                      colormap = 'gist_gray',\n",
    "                      background_color='Maroon',\n",
    "                      collocations=True,\n",
    "                      contour_color='#820263',\n",
    "                      contour_width=3).generate_from_text(topic_clean)\n",
    "plt.figure(figsize=(18,12))\n",
    "plt.imshow(cloud)\n",
    "plt.axis('off')\n",
    "plt.title('Topics - Amnesty International Reports', fontsize=25)\n",
    "plt.show()"
   ]
  },
  {
   "cell_type": "markdown",
   "id": "9957b780",
   "metadata": {},
   "source": [
    "# 1. Considering possible DF cut-offs"
   ]
  },
  {
   "cell_type": "code",
   "execution_count": 32,
   "id": "3068977a",
   "metadata": {},
   "outputs": [],
   "source": [
    "# get tokens from dataframe\n",
    "qatar_texts = df_qatar['qatar_tokens']\n",
    "\n",
    "#create a dictionary of words\n",
    "dictionary = corpora.Dictionary(qatar_texts) # using the column with preprocessed data in form of tokens \n",
    "\n",
    "# corpus \n",
    "corpus = [dictionary.doc2bow(text) for text in qatar_texts] # same as above"
   ]
  },
  {
   "cell_type": "code",
   "execution_count": 33,
   "id": "f822fdd8",
   "metadata": {},
   "outputs": [],
   "source": [
    "def DF(corpus, dictionary):\n",
    "    occurence = {}\n",
    "\n",
    "    for i in range(0,len(corpus)):\n",
    "    \n",
    "        #corpus from gensim library consists of so called bows\n",
    "        #every bow = keys are tokens' indexes; values are numbers of tokens' occurences in text\n",
    "        bow = dict(corpus[i])\n",
    "    \n",
    "        #dict_combined = keys are tokens' names; values are numbers of tokens' occurences in text\n",
    "        bow_dict_combined = dict((dictionary[key], value) for (key, value) in bow.items())\n",
    "\n",
    "        # creates a dictionary where keys are tokens' names and values are lists of tokens' non-zero counts in texts\n",
    "        for token, count in bow_dict_combined.items():\n",
    "            occurence.setdefault(token, []).append(count)\n",
    "\n",
    "    DFdictionary = {}\n",
    "        \n",
    "    # based on tokens' counts dictionary woth tokens' names and IDF values is computed\n",
    "    for token, counts in occurence.items():\n",
    "        DFdictionary[token] = len(counts)/len(corpus)\n",
    "        \n",
    "    return(DFdictionary)"
   ]
  },
  {
   "cell_type": "code",
   "execution_count": 34,
   "id": "31cfc71a",
   "metadata": {},
   "outputs": [],
   "source": [
    "# call the function\n",
    "DFdictionary = DF(corpus, dictionary)"
   ]
  },
  {
   "cell_type": "code",
   "execution_count": 35,
   "id": "b8f08e3a",
   "metadata": {},
   "outputs": [
    {
     "data": {
      "text/plain": [
       "469134"
      ]
     },
     "execution_count": 35,
     "metadata": {},
     "output_type": "execute_result"
    }
   ],
   "source": [
    "# Number of unique token\n",
    "len(DFdictionary)"
   ]
  },
  {
   "cell_type": "code",
   "execution_count": 36,
   "id": "aa879905",
   "metadata": {},
   "outputs": [
    {
     "data": {
      "text/plain": [
       "{'amnesty': 0.8898768809849521,\n",
       " 'amnesty_international': 0.8173734610123119,\n",
       " 'workers': 0.7113543091655267,\n",
       " 'qatar': 0.6935704514363885,\n",
       " 'rights': 0.6559507523939808,\n",
       " 'migrant': 0.5697674418604651,\n",
       " 'human': 0.5376196990424077,\n",
       " 'migrant_workers': 0.5116279069767442,\n",
       " 'labour': 0.5088919288645691,\n",
       " 'human_rights': 0.4856361149110807,\n",
       " 'law': 0.48221614227086185,\n",
       " 'work': 0.46716826265389877,\n",
       " 'world': 0.45896032831737343,\n",
       " 'including': 0.45348837209302323}"
      ]
     },
     "execution_count": 36,
     "metadata": {},
     "output_type": "execute_result"
    }
   ],
   "source": [
    "# Print dictionary of top 15 words - DF\n",
    "dict(itertools.islice(sorted(DFdictionary.items(), key=lambda item: item[1], reverse=True), 1 ,15))"
   ]
  },
  {
   "cell_type": "markdown",
   "id": "138c17f8",
   "metadata": {},
   "source": [
    "All tokens with DF above 0.75 will be removed"
   ]
  },
  {
   "cell_type": "markdown",
   "id": "d35403db",
   "metadata": {},
   "source": [
    "# 2. Find  optimal number of topics LDA"
   ]
  },
  {
   "cell_type": "markdown",
   "id": "ce742b3f",
   "metadata": {},
   "source": [
    "Finding optimal number of topics in LDA using CountVectorizer and TFIDFVectorizer. Filtering with document frequency (0.75)"
   ]
  },
  {
   "cell_type": "code",
   "execution_count": 37,
   "id": "e83cf0cf",
   "metadata": {},
   "outputs": [],
   "source": [
    "warnings.filterwarnings(\"ignore\") #ignoring popping up warnings\n",
    "\n",
    "tokenizer = RegexpTokenizer(r'\\w+') # tokenizer\n",
    "\n",
    "# 1. TF count vectorizer\n",
    "tf_vectorizer = CountVectorizer(ngram_range = (1, 3), #let us use unigrams for now, to make the calculations quicker\n",
    "                                max_df = 0.75, #filtering with document frequency\n",
    "                                min_df = 5/len(df_qatar.qatar_texts), #filtering with document frequency\n",
    "                                tokenizer = tokenizer.tokenize,\n",
    ")\n",
    "tf = tf_vectorizer.fit_transform(df_qatar.qatar_texts) # tf\n",
    "tf_feature_names = tf_vectorizer.get_feature_names()\n",
    "\n",
    "\n",
    "# 2. TFIDF count vectorizer\n",
    "tfidf_vectorizer = TfidfVectorizer(ngram_range = (1, 3), #let us use unigrams for now, to make the calculations quicker\n",
    "                                   max_df = 0.75, #filtering with document frequency\n",
    "                                   min_df = 5/len(df_qatar.qatar_texts), #filtering with document frequency\n",
    "                                   tokenizer = tokenizer.tokenize\n",
    ")\n",
    "tfidf = tfidf_vectorizer.fit_transform(df_qatar.qatar_texts) # tf\n",
    "tfidf_feature_names = tfidf_vectorizer.get_feature_names()"
   ]
  },
  {
   "cell_type": "code",
   "execution_count": 38,
   "id": "05b9fc1c",
   "metadata": {},
   "outputs": [],
   "source": [
    "# source: https://stackoverflow.com/questions/69730428/how-do-i-find-coherence-score-for-lsa-and-lda-for-sklearn-models\n",
    "def get_umass_score(dt_matrix, i, j):\n",
    "    zo_matrix = (dt_matrix > 0).astype(int)\n",
    "    col_i, col_j = zo_matrix[:, i], zo_matrix[:, j]\n",
    "    col_ij = col_i + col_j\n",
    "    col_ij = (col_ij == 2).astype(int)    \n",
    "    Di, Dij = col_i.sum(), col_ij.sum()    \n",
    "    return math.log((Dij + 1) / Di)\n",
    "\n",
    "def get_topic_coherence(dt_matrix, topic, n_top_words):\n",
    "    indexed_topic = zip(topic, range(0, len(topic)))\n",
    "    topic_top = sorted(indexed_topic, key=lambda x: 1 - x[0])[0:n_top_words]\n",
    "    coherence = 0\n",
    "    for j_index in range(0, len(topic_top)):\n",
    "        for i_index in range(0, j_index - 1):\n",
    "            i = topic_top[i_index][1]\n",
    "            j = topic_top[j_index][1]\n",
    "            coherence += get_umass_score(dt_matrix, i, j)\n",
    "    return coherence\n",
    "\n",
    "def get_average_topic_coherence(dt_matrix, topics, n_top_words):\n",
    "    total_coherence = 0\n",
    "    for i in range(0, len(topics)):\n",
    "        total_coherence += get_topic_coherence(dt_matrix, topics[i], n_top_words)\n",
    "    return total_coherence / len(topics)"
   ]
  },
  {
   "cell_type": "markdown",
   "id": "718ef50d",
   "metadata": {},
   "source": [
    "### i) Optimizing the number of topics for LDA with CountVectorizer() applied "
   ]
  },
  {
   "cell_type": "code",
   "execution_count": 39,
   "id": "3935dbd7",
   "metadata": {},
   "outputs": [
    {
     "name": "stdout",
     "output_type": "stream",
     "text": [
      "Trying parameters: 2\n",
      "Trying parameters: 3\n",
      "Trying parameters: 4\n",
      "Trying parameters: 5\n",
      "Trying parameters: 6\n",
      "Trying parameters: 7\n",
      "Trying parameters: 8\n",
      "Trying parameters: 9\n",
      "Trying parameters: 10\n",
      "Trying parameters: 11\n",
      "Trying parameters: 12\n",
      "Trying parameters: 13\n",
      "Trying parameters: 14\n",
      "Trying parameters: 15\n",
      "Trying parameters: 16\n",
      "Trying parameters: 17\n",
      "Trying parameters: 18\n",
      "Trying parameters: 19\n",
      "Trying parameters: 20\n",
      "Trying parameters: 21\n",
      "Trying parameters: 22\n",
      "Trying parameters: 23\n",
      "Trying parameters: 24\n",
      "Trying parameters: 25\n",
      "Trying parameters: 26\n",
      "Trying parameters: 27\n",
      "Trying parameters: 28\n",
      "Trying parameters: 29\n",
      "Trying parameters: 30\n",
      "Trying parameters: 31\n",
      "Trying parameters: 32\n",
      "Trying parameters: 33\n",
      "Trying parameters: 34\n",
      "Trying parameters: 35\n",
      "Trying parameters: 36\n",
      "Trying parameters: 37\n",
      "Trying parameters: 38\n",
      "Trying parameters: 39\n",
      "Trying parameters: 40\n",
      "Trying parameters: 41\n",
      "Trying parameters: 42\n",
      "Trying parameters: 43\n",
      "Trying parameters: 44\n",
      "Trying parameters: 45\n",
      "Trying parameters: 46\n",
      "Trying parameters: 47\n",
      "Trying parameters: 48\n",
      "Trying parameters: 49\n",
      "Trying parameters: 50\n"
     ]
    }
   ],
   "source": [
    "measures_specific = []\n",
    "\n",
    "for n_topics in range(2,51,1):\n",
    "    \n",
    "    print('Trying parameters:', n_topics)\n",
    "    \n",
    "    lda = LatentDirichletAllocation(n_components = n_topics, \n",
    "                                    learning_method = 'online',\n",
    "                                    learning_offset = 50.0,\n",
    "                                    max_iter = 5, \n",
    "                                    random_state = 42)\n",
    "                \n",
    "    lda.fit(tf)\n",
    "    \n",
    "    avg_coherence = get_average_topic_coherence(tf, lda.components_, 25) # lda with CountVectorizer() , 25 topics passed \n",
    "\n",
    "    measures_specific.append([avg_coherence, n_topics])"
   ]
  },
  {
   "cell_type": "code",
   "execution_count": 40,
   "id": "44ad86d0",
   "metadata": {},
   "outputs": [
    {
     "data": {
      "image/png": "[encoded data removed]",
      "text/plain": [
       "<Figure size 432x288 with 1 Axes>"
      ]
     },
     "metadata": {},
     "output_type": "display_data"
    }
   ],
   "source": [
    "# below, we make the output (list) a pandas DataFrame with intuitive colnames\n",
    "measures_specific_df_lda = pd.DataFrame(measures_specific).rename(columns={\n",
    "    0: 'avg_coherence', 1: 'n_topics'\n",
    "})\n",
    "\n",
    "plt.style.use(\"fivethirtyeight\")\n",
    "plt.plot(measures_specific_df_lda['n_topics'],measures_specific_df_lda['avg_coherence'])\n",
    "plt.xlabel(\"No. of topics\")\n",
    "plt.ylabel(\"Average topic coherence\")\n",
    "plt.show()"
   ]
  },
  {
   "cell_type": "code",
   "execution_count": 41,
   "id": "170b9ae6",
   "metadata": {},
   "outputs": [
    {
     "data": {
      "text/html": [
       "<div>\n",
       "<style scoped>\n",
       "    .dataframe tbody tr th:only-of-type {\n",
       "        vertical-align: middle;\n",
       "    }\n",
       "\n",
       "    .dataframe tbody tr th {\n",
       "        vertical-align: top;\n",
       "    }\n",
       "\n",
       "    .dataframe thead th {\n",
       "        text-align: right;\n",
       "    }\n",
       "</style>\n",
       "<table border=\"1\" class=\"dataframe\">\n",
       "  <thead>\n",
       "    <tr style=\"text-align: right;\">\n",
       "      <th></th>\n",
       "      <th>avg_coherence</th>\n",
       "      <th>n_topics</th>\n",
       "    </tr>\n",
       "  </thead>\n",
       "  <tbody>\n",
       "    <tr>\n",
       "      <th>10</th>\n",
       "      <td>-316.569823</td>\n",
       "      <td>12</td>\n",
       "    </tr>\n",
       "    <tr>\n",
       "      <th>15</th>\n",
       "      <td>-322.374646</td>\n",
       "      <td>17</td>\n",
       "    </tr>\n",
       "    <tr>\n",
       "      <th>1</th>\n",
       "      <td>-323.616025</td>\n",
       "      <td>3</td>\n",
       "    </tr>\n",
       "    <tr>\n",
       "      <th>2</th>\n",
       "      <td>-330.521437</td>\n",
       "      <td>4</td>\n",
       "    </tr>\n",
       "    <tr>\n",
       "      <th>0</th>\n",
       "      <td>-335.493621</td>\n",
       "      <td>2</td>\n",
       "    </tr>\n",
       "    <tr>\n",
       "      <th>3</th>\n",
       "      <td>-348.834851</td>\n",
       "      <td>5</td>\n",
       "    </tr>\n",
       "    <tr>\n",
       "      <th>7</th>\n",
       "      <td>-350.761475</td>\n",
       "      <td>9</td>\n",
       "    </tr>\n",
       "    <tr>\n",
       "      <th>9</th>\n",
       "      <td>-364.987387</td>\n",
       "      <td>11</td>\n",
       "    </tr>\n",
       "    <tr>\n",
       "      <th>8</th>\n",
       "      <td>-372.404606</td>\n",
       "      <td>10</td>\n",
       "    </tr>\n",
       "  </tbody>\n",
       "</table>\n",
       "</div>"
      ],
      "text/plain": [
       "    avg_coherence  n_topics\n",
       "10    -316.569823        12\n",
       "15    -322.374646        17\n",
       "1     -323.616025         3\n",
       "2     -330.521437         4\n",
       "0     -335.493621         2\n",
       "3     -348.834851         5\n",
       "7     -350.761475         9\n",
       "9     -364.987387        11\n",
       "8     -372.404606        10"
      ]
     },
     "execution_count": 41,
     "metadata": {},
     "output_type": "execute_result"
    }
   ],
   "source": [
    "measures_specific_df_lda.sort_values('avg_coherence', ascending = False).iloc[0:9,:]"
   ]
  },
  {
   "cell_type": "markdown",
   "id": "feafe5c3",
   "metadata": {},
   "source": [
    "The suggested number of topics using CountVectorizer() is 12. Next recommendations are 12,17,3,4,2,5,9....\n"
   ]
  },
  {
   "cell_type": "markdown",
   "id": "e860851c",
   "metadata": {},
   "source": [
    "### ii) Optimizing the number of topics for LDA with TfidfVectorizer() applied"
   ]
  },
  {
   "cell_type": "code",
   "execution_count": 64,
   "id": "cd3c1b47",
   "metadata": {},
   "outputs": [
    {
     "name": "stdout",
     "output_type": "stream",
     "text": [
      "Trying parameters: 2\n",
      "Trying parameters: 3\n",
      "Trying parameters: 4\n",
      "Trying parameters: 5\n",
      "Trying parameters: 6\n",
      "Trying parameters: 7\n",
      "Trying parameters: 8\n",
      "Trying parameters: 9\n",
      "Trying parameters: 10\n",
      "Trying parameters: 11\n",
      "Trying parameters: 12\n",
      "Trying parameters: 13\n",
      "Trying parameters: 14\n",
      "Trying parameters: 15\n",
      "Trying parameters: 16\n",
      "Trying parameters: 17\n",
      "Trying parameters: 18\n",
      "Trying parameters: 19\n",
      "Trying parameters: 20\n",
      "Trying parameters: 21\n",
      "Trying parameters: 22\n",
      "Trying parameters: 23\n",
      "Trying parameters: 24\n",
      "Trying parameters: 25\n",
      "Trying parameters: 26\n",
      "Trying parameters: 27\n",
      "Trying parameters: 28\n",
      "Trying parameters: 29\n",
      "Trying parameters: 30\n",
      "Trying parameters: 31\n",
      "Trying parameters: 32\n",
      "Trying parameters: 33\n",
      "Trying parameters: 34\n",
      "Trying parameters: 35\n",
      "Trying parameters: 36\n",
      "Trying parameters: 37\n",
      "Trying parameters: 38\n",
      "Trying parameters: 39\n",
      "Trying parameters: 40\n",
      "Trying parameters: 41\n",
      "Trying parameters: 42\n",
      "Trying parameters: 43\n",
      "Trying parameters: 44\n",
      "Trying parameters: 45\n",
      "Trying parameters: 46\n",
      "Trying parameters: 47\n",
      "Trying parameters: 48\n",
      "Trying parameters: 49\n",
      "Trying parameters: 50\n"
     ]
    }
   ],
   "source": [
    "warnings.filterwarnings(\"ignore\") #ignoring popping up warnings\n",
    "\n",
    "measures_specific = []\n",
    "\n",
    "for n_topics in range(2,51,1):\n",
    "    \n",
    "    print('Trying parameters:', n_topics)\n",
    "    \n",
    "    lda = LatentDirichletAllocation(n_components = n_topics, \n",
    "                                    learning_method = 'online',\n",
    "                                    learning_offset = 50.0,\n",
    "                                    max_iter = 5, \n",
    "                                    random_state = 42)\n",
    "                \n",
    "    lda.fit(tfidf)\n",
    "    \n",
    "    avg_coherence = get_average_topic_coherence(tfidf, lda.components_, 25) # lda with TfidfVectorizer() , 25 topics passed \n",
    "\n",
    "    measures_specific.append([avg_coherence, n_topics])"
   ]
  },
  {
   "cell_type": "code",
   "execution_count": 65,
   "id": "c0de848b",
   "metadata": {},
   "outputs": [
    {
     "data": {
      "image/png": "[encoded data removed]",
      "text/plain": [
       "<Figure size 432x288 with 1 Axes>"
      ]
     },
     "metadata": {},
     "output_type": "display_data"
    }
   ],
   "source": [
    "# below, we make the output (list) a pandas DataFrame with intuitive colnames\n",
    "measures_specific_df_lda = pd.DataFrame(measures_specific).rename(columns={\n",
    "    0: 'avg_coherence', 1: 'n_topics'\n",
    "})\n",
    "\n",
    "plt.style.use(\"fivethirtyeight\")\n",
    "plt.plot(measures_specific_df_lda['n_topics'],measures_specific_df_lda['avg_coherence'])\n",
    "plt.xlabel(\"No. of topics\")\n",
    "plt.ylabel(\"Average topic coherence\")\n",
    "plt.show()"
   ]
  },
  {
   "cell_type": "code",
   "execution_count": 66,
   "id": "2e59cfca",
   "metadata": {},
   "outputs": [
    {
     "data": {
      "text/html": [
       "<div>\n",
       "<style scoped>\n",
       "    .dataframe tbody tr th:only-of-type {\n",
       "        vertical-align: middle;\n",
       "    }\n",
       "\n",
       "    .dataframe tbody tr th {\n",
       "        vertical-align: top;\n",
       "    }\n",
       "\n",
       "    .dataframe thead th {\n",
       "        text-align: right;\n",
       "    }\n",
       "</style>\n",
       "<table border=\"1\" class=\"dataframe\">\n",
       "  <thead>\n",
       "    <tr style=\"text-align: right;\">\n",
       "      <th></th>\n",
       "      <th>avg_coherence</th>\n",
       "      <th>n_topics</th>\n",
       "    </tr>\n",
       "  </thead>\n",
       "  <tbody>\n",
       "    <tr>\n",
       "      <th>8</th>\n",
       "      <td>-323.929228</td>\n",
       "      <td>10</td>\n",
       "    </tr>\n",
       "    <tr>\n",
       "      <th>0</th>\n",
       "      <td>-329.350698</td>\n",
       "      <td>2</td>\n",
       "    </tr>\n",
       "    <tr>\n",
       "      <th>2</th>\n",
       "      <td>-339.930121</td>\n",
       "      <td>4</td>\n",
       "    </tr>\n",
       "    <tr>\n",
       "      <th>1</th>\n",
       "      <td>-370.410804</td>\n",
       "      <td>3</td>\n",
       "    </tr>\n",
       "    <tr>\n",
       "      <th>5</th>\n",
       "      <td>-373.869539</td>\n",
       "      <td>7</td>\n",
       "    </tr>\n",
       "    <tr>\n",
       "      <th>6</th>\n",
       "      <td>-459.498047</td>\n",
       "      <td>8</td>\n",
       "    </tr>\n",
       "    <tr>\n",
       "      <th>14</th>\n",
       "      <td>-461.402176</td>\n",
       "      <td>16</td>\n",
       "    </tr>\n",
       "    <tr>\n",
       "      <th>3</th>\n",
       "      <td>-462.844478</td>\n",
       "      <td>5</td>\n",
       "    </tr>\n",
       "    <tr>\n",
       "      <th>7</th>\n",
       "      <td>-486.255792</td>\n",
       "      <td>9</td>\n",
       "    </tr>\n",
       "  </tbody>\n",
       "</table>\n",
       "</div>"
      ],
      "text/plain": [
       "    avg_coherence  n_topics\n",
       "8     -323.929228        10\n",
       "0     -329.350698         2\n",
       "2     -339.930121         4\n",
       "1     -370.410804         3\n",
       "5     -373.869539         7\n",
       "6     -459.498047         8\n",
       "14    -461.402176        16\n",
       "3     -462.844478         5\n",
       "7     -486.255792         9"
      ]
     },
     "execution_count": 66,
     "metadata": {},
     "output_type": "execute_result"
    }
   ],
   "source": [
    "measures_specific_df_lda.sort_values('avg_coherence', ascending = False).iloc[0:9,:]"
   ]
  },
  {
   "cell_type": "markdown",
   "id": "50aedc27",
   "metadata": {},
   "source": [
    "The suggested number of topics using TfidfVectorizer() is 10. Next recommendations are 10,2,4,3,7,8,16..... \n",
    "\n",
    "Generally, with more topics, the model can generate more meaningful and interpretable topics that are more descriptive and relevant to the documents. Also, the model can more accurately capture the diversity of the documents and provide a more representative sample of the topics present in the documents. And lastly, with more topics there are less chance of overlap between different topics\n",
    "\n",
    "\n",
    "We will consider 16 topics for LDA with both TFIDF and CountVectorizer. Next, we will try 32 topics to see if we get more interpretable high quality topics while reducing over-fitting of topics."
   ]
  },
  {
   "cell_type": "markdown",
   "id": "b47b7192",
   "metadata": {},
   "source": [
    "# 3. Perfoming LDA for CountVectorizer() "
   ]
  },
  {
   "cell_type": "code",
   "execution_count": 22,
   "id": "ed51c543",
   "metadata": {
    "scrolled": true
   },
   "outputs": [
    {
     "data": {
      "text/html": [
       "<style>#sk-container-id-2 {color: black;background-color: white;}#sk-container-id-2 pre{padding: 0;}#sk-container-id-2 div.sk-toggleable {background-color: white;}#sk-container-id-2 label.sk-toggleable__label {cursor: pointer;display: block;width: 100%;margin-bottom: 0;padding: 0.3em;box-sizing: border-box;text-align: center;}#sk-container-id-2 label.sk-toggleable__label-arrow:before {content: \"▸\";float: left;margin-right: 0.25em;color: #696969;}#sk-container-id-2 label.sk-toggleable__label-arrow:hover:before {color: black;}#sk-container-id-2 div.sk-estimator:hover label.sk-toggleable__label-arrow:before {color: black;}#sk-container-id-2 div.sk-toggleable__content {max-height: 0;max-width: 0;overflow: hidden;text-align: left;background-color: #f0f8ff;}#sk-container-id-2 div.sk-toggleable__content pre {margin: 0.2em;color: black;border-radius: 0.25em;background-color: #f0f8ff;}#sk-container-id-2 input.sk-toggleable__control:checked~div.sk-toggleable__content {max-height: 200px;max-width: 100%;overflow: auto;}#sk-container-id-2 input.sk-toggleable__control:checked~label.sk-toggleable__label-arrow:before {content: \"▾\";}#sk-container-id-2 div.sk-estimator input.sk-toggleable__control:checked~label.sk-toggleable__label {background-color: #d4ebff;}#sk-container-id-2 div.sk-label input.sk-toggleable__control:checked~label.sk-toggleable__label {background-color: #d4ebff;}#sk-container-id-2 input.sk-hidden--visually {border: 0;clip: rect(1px 1px 1px 1px);clip: rect(1px, 1px, 1px, 1px);height: 1px;margin: -1px;overflow: hidden;padding: 0;position: absolute;width: 1px;}#sk-container-id-2 div.sk-estimator {font-family: monospace;background-color: #f0f8ff;border: 1px dotted black;border-radius: 0.25em;box-sizing: border-box;margin-bottom: 0.5em;}#sk-container-id-2 div.sk-estimator:hover {background-color: #d4ebff;}#sk-container-id-2 div.sk-parallel-item::after {content: \"\";width: 100%;border-bottom: 1px solid gray;flex-grow: 1;}#sk-container-id-2 div.sk-label:hover label.sk-toggleable__label {background-color: #d4ebff;}#sk-container-id-2 div.sk-serial::before {content: \"\";position: absolute;border-left: 1px solid gray;box-sizing: border-box;top: 0;bottom: 0;left: 50%;z-index: 0;}#sk-container-id-2 div.sk-serial {display: flex;flex-direction: column;align-items: center;background-color: white;padding-right: 0.2em;padding-left: 0.2em;position: relative;}#sk-container-id-2 div.sk-item {position: relative;z-index: 1;}#sk-container-id-2 div.sk-parallel {display: flex;align-items: stretch;justify-content: center;background-color: white;position: relative;}#sk-container-id-2 div.sk-item::before, #sk-container-id-2 div.sk-parallel-item::before {content: \"\";position: absolute;border-left: 1px solid gray;box-sizing: border-box;top: 0;bottom: 0;left: 50%;z-index: -1;}#sk-container-id-2 div.sk-parallel-item {display: flex;flex-direction: column;z-index: 1;position: relative;background-color: white;}#sk-container-id-2 div.sk-parallel-item:first-child::after {align-self: flex-end;width: 50%;}#sk-container-id-2 div.sk-parallel-item:last-child::after {align-self: flex-start;width: 50%;}#sk-container-id-2 div.sk-parallel-item:only-child::after {width: 0;}#sk-container-id-2 div.sk-dashed-wrapped {border: 1px dashed gray;margin: 0 0.4em 0.5em 0.4em;box-sizing: border-box;padding-bottom: 0.4em;background-color: white;}#sk-container-id-2 div.sk-label label {font-family: monospace;font-weight: bold;display: inline-block;line-height: 1.2em;}#sk-container-id-2 div.sk-label-container {text-align: center;}#sk-container-id-2 div.sk-container {/* jupyter's `normalize.less` sets `[hidden] { display: none; }` but bootstrap.min.css set `[hidden] { display: none !important; }` so we also need the `!important` here to be able to override the default hidden behavior on the sphinx rendered scikit-learn.org. See: https://github.com/scikit-learn/scikit-learn/issues/21755 */display: inline-block !important;position: relative;}#sk-container-id-2 div.sk-text-repr-fallback {display: none;}</style><div id=\"sk-container-id-2\" class=\"sk-top-container\"><div class=\"sk-text-repr-fallback\"><pre>LatentDirichletAllocation(learning_method=&#x27;online&#x27;, learning_offset=50.0,\n",
       "                          max_iter=5, n_components=16, random_state=7000)</pre><b>In a Jupyter environment, please rerun this cell to show the HTML representation or trust the notebook. <br />On GitHub, the HTML representation is unable to render, please try loading this page with nbviewer.org.</b></div><div class=\"sk-container\" hidden><div class=\"sk-item\"><div class=\"sk-estimator sk-toggleable\"><input class=\"sk-toggleable__control sk-hidden--visually\" id=\"sk-estimator-id-2\" type=\"checkbox\" checked><label for=\"sk-estimator-id-2\" class=\"sk-toggleable__label sk-toggleable__label-arrow\">LatentDirichletAllocation</label><div class=\"sk-toggleable__content\"><pre>LatentDirichletAllocation(learning_method=&#x27;online&#x27;, learning_offset=50.0,\n",
       "                          max_iter=5, n_components=16, random_state=7000)</pre></div></div></div></div></div>"
      ],
      "text/plain": [
       "LatentDirichletAllocation(learning_method='online', learning_offset=50.0,\n",
       "                          max_iter=5, n_components=16, random_state=7000)"
      ]
     },
     "execution_count": 22,
     "metadata": {},
     "output_type": "execute_result"
    }
   ],
   "source": [
    "lda = LatentDirichletAllocation(n_components = 16, # number of topics\n",
    "                                learning_method = 'online', # method used in fit(). recommended\n",
    "                                learning_offset = 50.0, # this parameter downweights early iterations in online learning\n",
    "                                max_iter = 5, # iterations in fit()\n",
    "                                random_state = 7000)\n",
    "lda.fit(tf)"
   ]
  },
  {
   "cell_type": "code",
   "execution_count": 72,
   "id": "7e01866b",
   "metadata": {},
   "outputs": [
    {
     "name": "stdout",
     "output_type": "stream",
     "text": [
      "Topic 0:  ['indigenous', 'indigenous peoples', 'rights', 'peoples', 'court', 'human rights', 'human', 'workers', 'migrant', 'khalifa stadium']\n",
      "Topic 1:  ['eversendai', 'khalifa stadium', 'migrant', 'workers', 'human', 'women', 'death', 'nakheel', 'rights', 'including']\n",
      "Topic 2:  ['suman', 'sujan', 'taka', 'miah', 'mohammed suman miah', 'bangladeshi', 'suman miah', 'mohammed suman', 'jamal', 'welfare board']\n",
      "Topic 3:  ['rights', 'human', 'human rights', 'london', 'easton', 'street', 'street london', 'easton street', 'easton street london', 'amnesty org']\n",
      "Topic 4:  ['rights', 'human', 'human rights', 'un', 'fifa', 'right', 'social', 'economic', 'accessed', 'cultural']\n",
      "Topic 5:  ['workers', 'qatar', 'migrant', 'labour', 'migrant workers', 'world', 'cup', 'world cup', 'work', 'rights']\n",
      "Topic 6:  ['eversendai', 'barwa', 'barwa al', 'qatar', 'report', 'crc', 'fifa', 'six construct', 'overdue', 'al baraha']\n",
      "Topic 7:  ['death', 'drug', 'death penalty', 'penalty', 'drugs', 'offences', 'act', 'drug offences', 'executions', 'trafficking']\n",
      "Topic 8:  ['labour migration policies', 'migration policies', 'italy', 'policies submission un', 'labour migration', 'migration policies submission', 'abusive labour migration', 'un committee migrant', 'policies submission', 'submission un committee']\n",
      "Topic 9:  ['domestic', 'rights', 'law', 'women', 'domestic workers', 'human', 'workers', 'government', 'authorities', 'including']\n",
      "Topic 10:  ['special', 'overdue', 'rapporteur', 'special rapporteur', 'report', 'years overdue', 'years', 'reports', 'periodic', 'elections']\n",
      "Topic 11:  ['death', 'deaths', 'cause death', 'diseases', 'cause', 'heat', 'causes', 'workers deaths amnesty', 'autopsies', 'deaths amnesty international']\n",
      "Topic 12:  ['death', 'death penalty', 'penalty', 'drugs', 'rights', 'punishment', 'preparations', 'torture', 'flogging', 'human']\n",
      "Topic 13:  ['aspire', 'sc', 'eversendai', 'zone', 'aspire zone', 'qmc', 'nakheel', 'khalifa', 'standards', 'khalifa stadium']\n",
      "Topic 14:  ['nakheel', 'landscapes amnesty', 'landscapes amnesty international', 'nakheel landscapes amnesty', 'nakheel landscapes', 'landscapes', 'nakhee', 'candidates', 'seats', 'vacant']\n",
      "Topic 15:  ['convention', 'ratified', 'rights', 'protocol', 'optional', 'optional protocol', 'covenant', 'international covenant', 'torture', 'protection']\n"
     ]
    }
   ],
   "source": [
    "# 10 topics \n",
    "for index, component in enumerate(lda.components_): #taking model's components \n",
    "                                                    #(values from reconstructed Document-Term Matrix)\n",
    "    zipped = zip(tf_feature_names, component) #taking together tokens' names with components\n",
    "    top_terms_key=sorted(zipped, key = lambda t: t[1], reverse=True)[:10] #top 10 terms per topic\n",
    "    top_terms_list=list(dict(top_terms_key).keys()) #taking only tokens, no weights\n",
    "    \n",
    "    print(\"Topic \"+str(index)+\": \",top_terms_list) #prints top 10 tokens per topic"
   ]
  },
  {
   "cell_type": "markdown",
   "id": "c5633cc3",
   "metadata": {},
   "source": [
    "- Topic 0 - Human rights for Indegenous people and migrant workers who work at Khalifa Stadium\n",
    "- Topic 1 - Construction companies (Eversendai, Nakheel), death of women and migrant workers and their rights\n",
    "- Topic 2 - Mohammed Suman Miah and Sujan Miah - migrants workers who died in qatar (Welfare compensation in Taka, Bangladesh currency)\n",
    "- Topic 3 - East London amnesty offices\n",
    "- Topic 4 - United Nations, FIFA board, rights (Social, cultural, ecnomic, human)\n",
    "- Topic 5 - Migrant workers and labour rights in Qatar world cup\n",
    "- Topic 6 - Construction companies (Eversendai, Six construction, Construction and Restructuring Engineering Co.(CRC)) and residential area for workers (Barwa Al Baraha)\n",
    "- Topic 7 - Drug offences, drug trafficking, death penalty and execution\n",
    "- Topic 8 - Abusive labour migration policies\n",
    "- Topic 9 - Domestic workers, women rights and government authorities, law\n",
    "- Topic 10 - Special rapporteurs overdue reports - These are overdue reports on human rights issues \n",
    "- Topic 11 - Causes of workers deaths, heat, diseases, autopsies \n",
    "- Topic 12 - Death penalty torture,  punishment, flogging\n",
    "- Topic 13 - Standards for construction companies in Qatar (Eversendai, Qatar Med Centre (QMC), Nakheel, Aspire zone(Sports and wellness complex)) \n",
    "- Topic 14 - Nakheel landscapes (Real estate company in qatar), Amnesty International\n",
    "- Topic 15 - International covenant and protection"
   ]
  },
  {
   "cell_type": "code",
   "execution_count": 74,
   "id": "40a7f0f8",
   "metadata": {},
   "outputs": [
    {
     "name": "stdout",
     "output_type": "stream",
     "text": [
      "Topic 0:  ['rights', 'human rights', 'human', 'court', 'migrant', 'violence', 'law', 'workers', 'national', 'qatar']\n",
      "Topic 1:  ['human', 'rights', 'death', 'women', 'including', 'ensure', 'human rights', 'death penalty', 'law', 'violence']\n",
      "Topic 2:  ['rights', 'human', 'law', 'ratified', 'optional protocol', 'information', 'human rights', 'optional', 'death', 'convention']\n",
      "Topic 3:  ['overdue', 'ratified', 'protocol', 'relating', 'geneva', 'years overdue', 'geneva conventions', 'years', 'report', 'special']\n",
      "Topic 4:  ['rights', 'human', 'human rights', 'law', 'including', 'torture', 'women', 'authorities', 'people', 'treatment']\n",
      "Topic 5:  ['workers', 'qatar', 'italy', 'migrant', 'employers', 'migrant workers', 'law', 'employer', 'rights', 'activists']\n",
      "Topic 6:  ['fifa', 'sustainability', 'cup', 'board', 'world', 'fifa world cup', 'cup qatar', 'world cup qatar', 'fifa world', 'world cup']\n",
      "Topic 7:  ['refugees', 'welcome', 'survey', 'governments', 'people', 'uk', 'would welcome', 'people worldwide', 'touch', 'worldwide']\n",
      "Topic 8:  ['construct jv', 'death', 'midmac six', 'midmac', 'death penalty', 'six construct', 'detention', 'penalty', 'rights', 'midmac six construct']\n",
      "Topic 9:  ['al', 'freedom', 'ajami', 'al ajami', 'trial', 'court', 'expression', 'mohammed', 'prison', 'held']\n",
      "Topic 10:  ['ratified', 'rights', 'protocol', 'convention', 'optional protocol', 'optional', 'workers', 'human', 'human rights', 'iccpr']\n",
      "Topic 11:  ['midmac six construct', 'midmac six', 'six construct', 'midmac', 'six construct jv', 'construct jv', 'special', 'human rights', 'human', 'rapporteur']\n",
      "Topic 12:  ['flogging', 'punishment', 'criminal code', 'corporal', 'ill treatment', 'corporal punishment', 'torture ill', 'torture ill treatment', 'torture', 'lashes']\n",
      "Topic 13:  ['human', 'rights', 'human rights', 'employer', 'un', 'migrant', 'ratified', 'ensure', 'workers', 'protocol']\n",
      "Topic 14:  ['special', 'rapporteur', 'initial', 'group', 'special rapporteur', 'initial report', 'working', 'working group', 'agreed', 'eversendai']\n",
      "Topic 15:  ['rights', 'human', 'human rights', 'social', 'economic', 'cultural', 'economic social', 'cultural rights', 'social cultural', 'economic social cultural']\n",
      "Topic 16:  ['indigenous', 'indigenous peoples', 'peoples', 'rights', 'court', 'human', 'human rights', 'law', 'death', 'torture']\n",
      "Topic 17:  ['violence', 'rights', 'human', 'law', 'torture', 'women', 'convention', 'workers', 'migrant', 'treatment']\n",
      "Topic 18:  ['ensure', 'rights', 'torture', 'human rights', 'human', 'including', 'national', 'law', 'death', 'torture ill']\n",
      "Topic 19:  ['eversendai', 'visitors', 'gate', 'blue', 'seven hills', 'hills', 'kitchen', 'human rights', 'rights', 'pride']\n",
      "Topic 20:  ['kong', 'hong', 'hong kong', 'workers', 'china', 'labour', 'policies submission', 'rule', 'migrant', 'court']\n",
      "Topic 21:  ['rights', 'human', 'human rights', 'london', 'street', 'people', 'easton', 'easton street', 'street london', 'org']\n",
      "Topic 22:  ['overdue', 'ratified', 'protocol', 'report', 'relating', 'years overdue', 'periodic', 'years', 'years overdue years', 'rights']\n",
      "Topic 23:  ['human', 'penalty', 'detention', 'death penalty', 'section', 'qatar', 'torture', 'death', 'rights', 'concern']\n",
      "Topic 24:  ['including', 'eversendai', 'treatment', 'torture', 'violence', 'torture ill treatment', 'sexual', 'convention', 'rights', 'ill']\n",
      "Topic 25:  ['nakhee', 'nakheel', 'js', 'jl', 'construct jv', 'midmac', 'six construct jv', 'six construct', 'workers', 'loyees']\n",
      "Topic 26:  ['workers', 'qatar', 'labour', 'rights', 'migrant', 'migrant workers', 'domestic', 'human', 'law', 'world']\n",
      "Topic 27:  ['workers', 'qatar', 'migrant', 'migrant workers', 'world cup', 'cup', 'world', 'stadium', 'labour', 'khalifa']\n",
      "Topic 28:  ['eversendai', 'khalifa stadium', 'interview qatar name', 'name changed protect', 'qatar name', 'working khalifa stadium', 'changed protect', 'human rights', 'overdue', 'human']\n",
      "Topic 29:  ['court', 'rights', 'protocol', 'ratified', 'convention', 'human', 'information', 'optional', 'protection', 'optional protocol']\n",
      "Topic 30:  ['death', 'penalty', 'death penalty', 'drug', 'drugs', 'offences', 'executions', 'act', 'trafficking', 'executed']\n",
      "Topic 31:  ['workers', 'ratified', 'migrant', 'protocol', 'death', 'years overdue', 'convention', 'special', 'human rights', 'human']\n"
     ]
    }
   ],
   "source": [
    "# 32 topics\n",
    "for index, component in enumerate(lda.components_): #taking model's components \n",
    "                                                    #(values from reconstructed Document-Term Matrix)\n",
    "    zipped = zip(tf_feature_names, component) #taking together tokens' names with components\n",
    "    top_terms_key=sorted(zipped, key = lambda t: t[1], reverse=True)[:10] #top 10 terms per topic\n",
    "    top_terms_list=list(dict(top_terms_key).keys()) #taking only tokens, no weights\n",
    "    \n",
    "    print(\"Topic \"+str(index)+\": \",top_terms_list) #prints top 10 tokens per topic"
   ]
  },
  {
   "cell_type": "markdown",
   "id": "9c2e9f8d",
   "metadata": {},
   "source": [
    "Changing from 16 to 32 topics did not results in significant change in our topics. About **4 distinct topics** were noticed\n",
    "\n",
    "- Topic 5 - Migrants workers from ITALY and activists\n",
    "- Topic 6 - FIFA world cup board\n",
    "- Topic 7 - Refugees, UK and governments\n",
    "- Topic 8 - Midmac Six Construct JV, a joint venture between Midmac Contracting Company & Six Construct, two largest construction companies in Qatar.\n",
    "- Topic 9 - **Mohammed Alajami** held in prison and court trial, freedom of expression (He was detained in November 2011)\n",
    "- Topic 20 - Migrant workers from CHINA Hong Kong, labour rules and policies\n",
    "- Topic 24 - **Sexual Violence** and ill treatment against workers in Eversendai \n",
    "- Topic 28 - Name change to protect worker working at Khaifa stadium and Eversendai due to interviews conducted by Amnesty International\n",
    "\n",
    "These topics are very dinstict and they reveal more inherent topics from documents that were not captured when only 16 topics were considered. \n",
    "\n",
    "However, we can also note that there is overlap on some topics for instance **Topics 2,3,10,13,22,29,31** are very similar and basically refer to ratified convetions, protocol, over due reports"
   ]
  },
  {
   "cell_type": "markdown",
   "id": "5d19c941",
   "metadata": {},
   "source": [
    "# 4. Perfoming LDA for TfidfVectorizer()"
   ]
  },
  {
   "cell_type": "code",
   "execution_count": 166,
   "id": "42192292",
   "metadata": {},
   "outputs": [
    {
     "data": {
      "text/html": [
       "<style>#sk-container-id-28 {color: black;background-color: white;}#sk-container-id-28 pre{padding: 0;}#sk-container-id-28 div.sk-toggleable {background-color: white;}#sk-container-id-28 label.sk-toggleable__label {cursor: pointer;display: block;width: 100%;margin-bottom: 0;padding: 0.3em;box-sizing: border-box;text-align: center;}#sk-container-id-28 label.sk-toggleable__label-arrow:before {content: \"▸\";float: left;margin-right: 0.25em;color: #696969;}#sk-container-id-28 label.sk-toggleable__label-arrow:hover:before {color: black;}#sk-container-id-28 div.sk-estimator:hover label.sk-toggleable__label-arrow:before {color: black;}#sk-container-id-28 div.sk-toggleable__content {max-height: 0;max-width: 0;overflow: hidden;text-align: left;background-color: #f0f8ff;}#sk-container-id-28 div.sk-toggleable__content pre {margin: 0.2em;color: black;border-radius: 0.25em;background-color: #f0f8ff;}#sk-container-id-28 input.sk-toggleable__control:checked~div.sk-toggleable__content {max-height: 200px;max-width: 100%;overflow: auto;}#sk-container-id-28 input.sk-toggleable__control:checked~label.sk-toggleable__label-arrow:before {content: \"▾\";}#sk-container-id-28 div.sk-estimator input.sk-toggleable__control:checked~label.sk-toggleable__label {background-color: #d4ebff;}#sk-container-id-28 div.sk-label input.sk-toggleable__control:checked~label.sk-toggleable__label {background-color: #d4ebff;}#sk-container-id-28 input.sk-hidden--visually {border: 0;clip: rect(1px 1px 1px 1px);clip: rect(1px, 1px, 1px, 1px);height: 1px;margin: -1px;overflow: hidden;padding: 0;position: absolute;width: 1px;}#sk-container-id-28 div.sk-estimator {font-family: monospace;background-color: #f0f8ff;border: 1px dotted black;border-radius: 0.25em;box-sizing: border-box;margin-bottom: 0.5em;}#sk-container-id-28 div.sk-estimator:hover {background-color: #d4ebff;}#sk-container-id-28 div.sk-parallel-item::after {content: \"\";width: 100%;border-bottom: 1px solid gray;flex-grow: 1;}#sk-container-id-28 div.sk-label:hover label.sk-toggleable__label {background-color: #d4ebff;}#sk-container-id-28 div.sk-serial::before {content: \"\";position: absolute;border-left: 1px solid gray;box-sizing: border-box;top: 0;bottom: 0;left: 50%;z-index: 0;}#sk-container-id-28 div.sk-serial {display: flex;flex-direction: column;align-items: center;background-color: white;padding-right: 0.2em;padding-left: 0.2em;position: relative;}#sk-container-id-28 div.sk-item {position: relative;z-index: 1;}#sk-container-id-28 div.sk-parallel {display: flex;align-items: stretch;justify-content: center;background-color: white;position: relative;}#sk-container-id-28 div.sk-item::before, #sk-container-id-28 div.sk-parallel-item::before {content: \"\";position: absolute;border-left: 1px solid gray;box-sizing: border-box;top: 0;bottom: 0;left: 50%;z-index: -1;}#sk-container-id-28 div.sk-parallel-item {display: flex;flex-direction: column;z-index: 1;position: relative;background-color: white;}#sk-container-id-28 div.sk-parallel-item:first-child::after {align-self: flex-end;width: 50%;}#sk-container-id-28 div.sk-parallel-item:last-child::after {align-self: flex-start;width: 50%;}#sk-container-id-28 div.sk-parallel-item:only-child::after {width: 0;}#sk-container-id-28 div.sk-dashed-wrapped {border: 1px dashed gray;margin: 0 0.4em 0.5em 0.4em;box-sizing: border-box;padding-bottom: 0.4em;background-color: white;}#sk-container-id-28 div.sk-label label {font-family: monospace;font-weight: bold;display: inline-block;line-height: 1.2em;}#sk-container-id-28 div.sk-label-container {text-align: center;}#sk-container-id-28 div.sk-container {/* jupyter's `normalize.less` sets `[hidden] { display: none; }` but bootstrap.min.css set `[hidden] { display: none !important; }` so we also need the `!important` here to be able to override the default hidden behavior on the sphinx rendered scikit-learn.org. See: https://github.com/scikit-learn/scikit-learn/issues/21755 */display: inline-block !important;position: relative;}#sk-container-id-28 div.sk-text-repr-fallback {display: none;}</style><div id=\"sk-container-id-28\" class=\"sk-top-container\"><div class=\"sk-text-repr-fallback\"><pre>LatentDirichletAllocation(learning_method=&#x27;online&#x27;, learning_offset=50.0,\n",
       "                          max_iter=5, n_components=28, random_state=42)</pre><b>In a Jupyter environment, please rerun this cell to show the HTML representation or trust the notebook. <br />On GitHub, the HTML representation is unable to render, please try loading this page with nbviewer.org.</b></div><div class=\"sk-container\" hidden><div class=\"sk-item\"><div class=\"sk-estimator sk-toggleable\"><input class=\"sk-toggleable__control sk-hidden--visually\" id=\"sk-estimator-id-28\" type=\"checkbox\" checked><label for=\"sk-estimator-id-28\" class=\"sk-toggleable__label sk-toggleable__label-arrow\">LatentDirichletAllocation</label><div class=\"sk-toggleable__content\"><pre>LatentDirichletAllocation(learning_method=&#x27;online&#x27;, learning_offset=50.0,\n",
       "                          max_iter=5, n_components=28, random_state=42)</pre></div></div></div></div></div>"
      ],
      "text/plain": [
       "LatentDirichletAllocation(learning_method='online', learning_offset=50.0,\n",
       "                          max_iter=5, n_components=28, random_state=42)"
      ]
     },
     "execution_count": 166,
     "metadata": {},
     "output_type": "execute_result"
    }
   ],
   "source": [
    "lda = LatentDirichletAllocation(n_components = 28, # number of topics\n",
    "                                learning_method = 'online', # method used in fit(). recommended\n",
    "                                learning_offset = 50.0, # this parameter downweights early iterations in online learning\n",
    "                                max_iter = 5, # iterations in fit()\n",
    "                                random_state = 42)\n",
    "lda.fit(tfidf)"
   ]
  },
  {
   "cell_type": "code",
   "execution_count": 79,
   "id": "4150649d",
   "metadata": {},
   "outputs": [
    {
     "name": "stdout",
     "output_type": "stream",
     "text": [
      "Topic 0:  ['workers', 'mentioned', 'pilot', 'body responsible', 'abuses facing migrant', 'nationality', 'worker representatives', 'provisions labour', 'disaggregated data', 'un']\n",
      "Topic 1:  ['ratified', 'protocol', 'overdue', 'geneva conventions', 'geneva', 'relating', 'conventions relating', 'conventions', 'years overdue', 'periodic']\n",
      "Topic 2:  ['qatar', 'human rights', 'among', 'hope', 'security', 'grossly', 'serbia', 'usually', 'freedom', 'international want rest']\n",
      "Topic 3:  ['national law', 'accede', 'national law accede', 'implement national law', 'implement national', 'law accede', 'law', 'international criminal court', 'court implement', 'implement']\n",
      "Topic 4:  ['workers', 'club world', 'companies', 'war', 'non compliances', 'world cup', 'wall', 'told', 'supreme committee', 'submission']\n",
      "Topic 5:  ['workers', 'qatar', 'labour', 'migrant workers', 'migrant', 'system', 'rights', 'employers', 'fifa', 'law']\n",
      "Topic 6:  ['workers', 'qatar', 'rights', 'migrant', 'labour', 'human', 'domestic', 'migrant workers', 'human rights', 'domestic workers']\n",
      "Topic 7:  ['qmc', 'sc', 'day', 'al', 'ajami', 'hours', 'moadlsa', 'sc wwd', 'court', 'al ajami']\n",
      "Topic 8:  ['commons', 'creative commons', 'creative', 'material', 'copyright', 'licence', 'political ideology', 'ideology', 'government political ideology', 'economic interest']\n",
      "Topic 9:  ['workers', 'rights', 'qatar', 'law', 'human rights', 'human', 'security', 'un', 'companies', 'employers']\n",
      "Topic 10:  ['ratified', 'protocol', 'optional protocol', 'workers', 'optional', 'geneva conventions', 'ratified optional', 'ratified optional protocol', 'conventions', 'ratified protocol']\n",
      "Topic 11:  ['workers', 'qatar', 'supreme committee', 'years overdue', 'residence', 'committee', 'permits', 'undocumented', 'locations', 'sc']\n",
      "Topic 12:  ['overdue', 'years overdue', 'overdue years', 'overdue years overdue', 'years overdue years', 'initial report', 'agreed principle', 'periodic', 'special', 'report op']\n",
      "Topic 13:  ['ratified', 'protocol', 'optional protocol', 'ratified entered', 'ratified optional', 'geneva conventions', 'optional', 'ratified optional protocol', 'geneva', 'entered']\n",
      "Topic 14:  ['workers', 'qatar', 'seg', 'human rights', 'rights', 'committee', 'migrant workers', 'letter', 'human', 'krantz']\n",
      "Topic 15:  ['qatar', 'netherlands', 'contacted', 'korea', 'palestinian', 'cassation upheld', 'countries world', 'resulting', 'principle', 'forced labour abuse']\n"
     ]
    }
   ],
   "source": [
    "# 16 TOPICS\n",
    "for index, component in enumerate(lda.components_): #taking model's components \n",
    "                                                    #(values from reconstructed Document-Term Matrix)\n",
    "    zipped = zip(tf_feature_names, component) #taking together tokens' names with components\n",
    "    top_terms_key=sorted(zipped, key = lambda t: t[1], reverse=True)[:10] #top 10 terms per topic\n",
    "    top_terms_list=list(dict(top_terms_key).keys()) #taking only tokens, no weights\n",
    "    \n",
    "    print(\"Topic \"+str(index)+\": \",top_terms_list) #prints top 10 tokens per topic"
   ]
  },
  {
   "cell_type": "markdown",
   "id": "31366dea",
   "metadata": {},
   "source": [
    "Using TF-IDF, topics were not really interpretable, except for a few topics\n",
    "\n",
    "- Topic 0 - Abuses facing migrant workers, and workers representatives. Also about disaggregated data and nationality for migrant workers\n",
    "- Topic 3 - International criminal court and implementing national law\n",
    "- Topic 4 - Non compliance of companies and Supreme Committee (The Supreme Committee is a governmental body in Qatar established in 2011 to ensure the successful delivery of projects for the FIFA World Cup 202)\n",
    "- Topic 5 - Migrant workers, labour rights and law (similar to topic 6)\n",
    "- Topic 7 - Ministry of Administrative Development, Labour and Social Affairs - moadlsa, Al Ajami court day\n",
    "- Topic 11 - Residence permits and undocumented workers\n",
    "- Topic 14 - Human rights committee letters to construction and Engineering companies (Krantz and SEG (Specialized Engineering Group))\n",
    "- Topic 15 - Forced labour abuse in Qatar and cassation upheld in countries including Netherlands, Korea, Palentine. Cassation generally refers to any type of appeal to a higher court.\n",
    "\n",
    "\n",
    "**Topic 1, 10, 12, 13** are very similar and also **Topic 5 and 6** are similar to each other. Using TidfVectorizer() with 16 topics, we are only able to extract a view distinct topics"
   ]
  },
  {
   "cell_type": "code",
   "execution_count": 81,
   "id": "fc628950",
   "metadata": {},
   "outputs": [
    {
     "name": "stdout",
     "output_type": "stream",
     "text": [
      "Topic 0:  ['mentioned', 'new', 'pilot', 'body responsible', 'abuses facing migrant', 'worker representatives', 'provisions labour', 'disaggregated data', 'workers others', 'interna']\n",
      "Topic 1:  ['ratified', 'protocol', 'geneva conventions', 'ratified entered', 'conventions relating', 'ratified optional', 'geneva conventions relating', 'ratified optional protocol', 'ratified protocol', 'protocol crc']\n",
      "Topic 2:  ['ratified', 'protocol', 'forced labour', 'refugees', 'workers', 'forced', 'supreme committee', 'labour', 'qatar', 'people worldwide']\n",
      "Topic 3:  ['workers', 'qatar', 'rights', 'migrant', 'labour', 'human', 'domestic', 'migrant workers', 'human rights', 'domestic workers']\n",
      "Topic 4:  ['workers', 'qatar', 'world cup', 'migrant', 'world', 'migrant workers', 'migration spotlight', 'migration spotlight qatar', 'featured report', 'sector ahead']\n",
      "Topic 5:  ['sc', 'workers', 'filed', 'qatar', 'less', 'entry exit', 'covenant civil', 'trade unions', 'worker india', 'vulnerable']\n",
      "Topic 6:  ['workers', 'detainees', 'private security companies', 'migrant workers', 'law', 'security', 'relating protection', 'procedure', 'submission', 'rights']\n",
      "Topic 7:  ['sc', 'qmc', 'day', 'wws', 'declarations', 'workers', 'indonesia', 'rights', 'deployed', 'due']\n",
      "Topic 8:  ['seg', 'krantz', 'workers', 'qatar', 'india', 'would like', 'since arriving qatar', 'pdf article', 'year world cup', 'project']\n",
      "Topic 9:  ['remote interview', 'remote', 'workers', 'interview', 'rights', 'hours', 'change jobs', 'qar', 'leave', 'hour']\n",
      "Topic 10:  ['overdue', 'years overdue', 'overdue years', 'years overdue years', 'overdue years overdue', 'conventions relating', 'geneva conventions', 'geneva conventions relating', 'report iccpr', 'periodic reports']\n",
      "Topic 11:  ['workers', 'qatar', 'labour', 'rights', 'migrant', 'human', 'human rights', 'law', 'migrant workers', 'cup']\n",
      "Topic 12:  ['human', 'exploitation migrant construction', 'fast', 'retained', 'points', 'noted content document', 'around workers', 'truth', 'dla', 'act death']\n",
      "Topic 13:  ['seg', 'workers', 'law', 'qmc', 'qatar', 'krantz', 'optional protocol', 'ratified', 'pay', 'hope']\n",
      "Topic 14:  ['workers', 'qatar', 'labour', 'fifa', 'torture', 'special', 'programme', 'world', 'human rights', 'migrant workers']\n",
      "Topic 15:  ['workers', 'qatar', 'un guiding', 'supreme committee', 'guiding', 'migrant', 'seek', 'world cup', 'forced labour abuse', 'principle']\n",
      "Topic 16:  ['report op', 'crc sale', 'claims employers', 'activists', 'qatar', 'violence', 'women', 'lawyers', 'rights', 'grievance remedy']\n",
      "Topic 17:  ['workers', 'labour', 'qatar', 'law', 'sponsorship', 'employers', 'migrant', 'exit permit', 'amnesty international considers', 'rapporteur']\n",
      "Topic 18:  ['al', 'qatar', 'torture', 'torture ill', 'workers', 'ajami', 'al ajami', 'torture ill treatment', 'security', 'rights']\n",
      "Topic 19:  ['workers', 'protocol', 'ratified', 'overdue', 'rights', 'security', 'labour', 'private', 'qatar', 'private security']\n",
      "Topic 20:  ['workers', 'migrant', 'qatar', 'migrant workers', 'labour exploitation', 'africa review amnesty', 'year', 'torture', 'world', 'krantz']\n",
      "Topic 21:  ['protocol', 'tickets', 'international ltd peter', 'refugees', 'women girls', 'ratified', 'effective access', 'forcibly', 'ministry justice', 'employers']\n",
      "Topic 22:  ['migrant', 'labour migration policies', 'workers', 'international best', 'thailand', 'attested', 'migrant workers', 'ratified', 'ap', 'qatar']\n",
      "Topic 23:  ['activists', 'enforce', 'interview', 'felt compelled', 'ur', 'workers step', 'security', 'remote', 'international criminal court', 'legal protection']\n",
      "Topic 24:  ['workers', 'qatar', 'nepali migrant', 'malaysia', 'kathmandu', 'special', 'low income migrants', 'club world cup', 'nepali', 'injection']\n",
      "Topic 25:  ['system', 'workers', 'noc', 'law', 'qatar', 'violating', 'rights', 'migrant workers', 'kafala', 'world']\n",
      "Topic 26:  ['commons', 'creative commons', 'creative', 'material', 'copyright', 'licence', 'political ideology', 'ideology', 'government political', 'government political ideology']\n",
      "Topic 27:  ['qatar', 'outstanding', 'ambassador', 'islamic', 'qatar amnesty international', 'al', 'failing', 'conscience', 'wage', 'netherlands']\n"
     ]
    }
   ],
   "source": [
    "# 28 TOPICS\n",
    "for index, component in enumerate(lda.components_): #taking model's components \n",
    "                                                    #(values from reconstructed Document-Term Matrix)\n",
    "    zipped = zip(tf_feature_names, component) #taking together tokens' names with components\n",
    "    top_terms_key=sorted(zipped, key = lambda t: t[1], reverse=True)[:10] #top 10 terms per topic\n",
    "    top_terms_list=list(dict(top_terms_key).keys()) #taking only tokens, no weights\n",
    "    \n",
    "    print(\"Topic \"+str(index)+\": \",top_terms_list) #prints top 10 tokens per topic"
   ]
  },
  {
   "cell_type": "markdown",
   "id": "7de4d9b3",
   "metadata": {},
   "source": [
    "Using 28 topics did not results in significant change in our topics. About 7 NEW distinct topics were noticed\n",
    "\n",
    "Even after considering more topics (28), still most topics are not interpretable. And also, there is NOT much similarity between TfidfVectorizer() and CountVectorizer() results in terms of TOPICS.\n",
    "\n",
    "Below are some of the dinstict Topics after changing from 16 to 28 topics\n",
    "\n",
    "- Topic 5 - Vulnerable workers from India and Trade Union\n",
    "- Topic 6 - Detainees, Private security companies, migrant workers\n",
    "- Topic 17 - **Employers sponsorship of exit permit** to migrant workers\n",
    "- Topic 18 - Illtreatment and torture of Poet Al Ajami\n",
    "- Topic 20 - Labour exploitation and torture of **migrant workers from Africa**\n",
    "- Topic 24 - Low income migrants from kathmandu (kathmandu Capital of Nepal), Malaysia\n",
    "- Topic 27 - Failing to pay **outstanding Wage**\n",
    "- Topic 25 - **Kafala system** violating migrant workers rights \n",
    " (Kafali system is a sponsorship system that governs the employment of migrant workers in qatar. Migrant workers are tied to their sponsor and are not allowed to change jobs or leave the country without the sponsor's permission.)\n"
   ]
  },
  {
   "cell_type": "markdown",
   "id": "32aca71c",
   "metadata": {},
   "source": [
    "# 5. Optimal  𝛼 and  𝛽 parameters"
   ]
  },
  {
   "cell_type": "markdown",
   "id": "0aebc657",
   "metadata": {},
   "source": [
    "We try setting different initial values for LDA generative process parameters. We analyse to see if we can get more improved results from our model"
   ]
  },
  {
   "cell_type": "code",
   "execution_count": 167,
   "id": "569cb9d5",
   "metadata": {},
   "outputs": [
    {
     "name": "stdout",
     "output_type": "stream",
     "text": [
      "0.0001 0.0001 tf\n",
      "0.0001 0.0001 tf-idf\n",
      "0.0001 0.001 tf\n",
      "0.0001 0.001 tf-idf\n",
      "0.0001 0.01 tf\n",
      "0.0001 0.01 tf-idf\n",
      "0.0001 0.05 tf\n",
      "0.0001 0.05 tf-idf\n",
      "0.0001 0.1 tf\n",
      "0.0001 0.1 tf-idf\n",
      "0.001 0.0001 tf\n",
      "0.001 0.0001 tf-idf\n",
      "0.001 0.001 tf\n",
      "0.001 0.001 tf-idf\n",
      "0.001 0.01 tf\n",
      "0.001 0.01 tf-idf\n",
      "0.001 0.05 tf\n",
      "0.001 0.05 tf-idf\n",
      "0.001 0.1 tf\n",
      "0.001 0.1 tf-idf\n",
      "0.01 0.0001 tf\n",
      "0.01 0.0001 tf-idf\n",
      "0.01 0.001 tf\n",
      "0.01 0.001 tf-idf\n",
      "0.01 0.01 tf\n",
      "0.01 0.01 tf-idf\n",
      "0.01 0.05 tf\n",
      "0.01 0.05 tf-idf\n",
      "0.01 0.1 tf\n",
      "0.01 0.1 tf-idf\n",
      "0.05 0.0001 tf\n",
      "0.05 0.0001 tf-idf\n",
      "0.05 0.001 tf\n",
      "0.05 0.001 tf-idf\n",
      "0.05 0.01 tf\n",
      "0.05 0.01 tf-idf\n",
      "0.05 0.05 tf\n",
      "0.05 0.05 tf-idf\n",
      "0.05 0.1 tf\n",
      "0.05 0.1 tf-idf\n",
      "0.1 0.0001 tf\n",
      "0.1 0.0001 tf-idf\n",
      "0.1 0.001 tf\n",
      "0.1 0.001 tf-idf\n",
      "0.1 0.01 tf\n",
      "0.1 0.01 tf-idf\n",
      "0.1 0.05 tf\n",
      "0.1 0.05 tf-idf\n",
      "0.1 0.1 tf\n",
      "0.1 0.1 tf-idf\n"
     ]
    }
   ],
   "source": [
    "params = []\n",
    "for alpha in [0.0001, 0.001, 0.01, 0.05, 0.1]:\n",
    "    for beta in [0.0001, 0.001, 0.01, 0.05, 0.1]:\n",
    "        for vectorizer_name in ['tf','tf-idf']:\n",
    "            \n",
    "            if(vectorizer_name == 'tf'):\n",
    "                print(alpha, beta, 'tf')\n",
    "                lda = LatentDirichletAllocation(n_components = 28, \n",
    "                                                doc_topic_prior = alpha,\n",
    "                                                topic_word_prior = beta,\n",
    "                                                learning_method = 'online', \n",
    "                                                learning_offset = 50.0,\n",
    "                                                max_iter = 5, \n",
    "                                                random_state = 42)\n",
    "                lda.fit(tf)\n",
    "                avg_coherence = get_average_topic_coherence(tf, lda.components_, 25)\n",
    "                params.append([alpha, beta, 'tf', avg_coherence])\n",
    "                    \n",
    "            if(vectorizer_name == 'tf-idf'):\n",
    "                print(alpha, beta, 'tf-idf')\n",
    "                lda = LatentDirichletAllocation(n_components = 28, \n",
    "                                                doc_topic_prior = alpha,\n",
    "                                                topic_word_prior = beta,\n",
    "                                                learning_method = 'online', \n",
    "                                                learning_offset = 50.0,\n",
    "                                                max_iter = 5, \n",
    "                                                random_state = 42)\n",
    "                lda.fit(tfidf)\n",
    "                avg_coherence = get_average_topic_coherence(tf, lda.components_, 25)\n",
    "                params.append([alpha, beta, 'tf-idf', avg_coherence])"
   ]
  },
  {
   "cell_type": "code",
   "execution_count": 168,
   "id": "89f21c55",
   "metadata": {},
   "outputs": [],
   "source": [
    "# below, we make the output (list) a pandas DataFrame with intuitive colnames\n",
    "params_df = pd.DataFrame(params).rename(columns={\n",
    "    0: 'alpha', 1: 'beta', 2: 'vectorizer', 3: 'avg_coherence'\n",
    "})"
   ]
  },
  {
   "cell_type": "code",
   "execution_count": 169,
   "id": "94afdfbd",
   "metadata": {},
   "outputs": [
    {
     "data": {
      "text/html": [
       "<div>\n",
       "<style scoped>\n",
       "    .dataframe tbody tr th:only-of-type {\n",
       "        vertical-align: middle;\n",
       "    }\n",
       "\n",
       "    .dataframe tbody tr th {\n",
       "        vertical-align: top;\n",
       "    }\n",
       "\n",
       "    .dataframe thead th {\n",
       "        text-align: right;\n",
       "    }\n",
       "</style>\n",
       "<table border=\"1\" class=\"dataframe\">\n",
       "  <thead>\n",
       "    <tr style=\"text-align: right;\">\n",
       "      <th></th>\n",
       "      <th>alpha</th>\n",
       "      <th>beta</th>\n",
       "      <th>vectorizer</th>\n",
       "      <th>avg_coherence</th>\n",
       "    </tr>\n",
       "  </thead>\n",
       "  <tbody>\n",
       "    <tr>\n",
       "      <th>30</th>\n",
       "      <td>0.0500</td>\n",
       "      <td>0.0001</td>\n",
       "      <td>tf</td>\n",
       "      <td>-429.022708</td>\n",
       "    </tr>\n",
       "    <tr>\n",
       "      <th>34</th>\n",
       "      <td>0.0500</td>\n",
       "      <td>0.0100</td>\n",
       "      <td>tf</td>\n",
       "      <td>-429.517007</td>\n",
       "    </tr>\n",
       "    <tr>\n",
       "      <th>32</th>\n",
       "      <td>0.0500</td>\n",
       "      <td>0.0010</td>\n",
       "      <td>tf</td>\n",
       "      <td>-430.196705</td>\n",
       "    </tr>\n",
       "    <tr>\n",
       "      <th>0</th>\n",
       "      <td>0.0001</td>\n",
       "      <td>0.0001</td>\n",
       "      <td>tf</td>\n",
       "      <td>-430.471584</td>\n",
       "    </tr>\n",
       "    <tr>\n",
       "      <th>10</th>\n",
       "      <td>0.0010</td>\n",
       "      <td>0.0001</td>\n",
       "      <td>tf</td>\n",
       "      <td>-431.188675</td>\n",
       "    </tr>\n",
       "    <tr>\n",
       "      <th>2</th>\n",
       "      <td>0.0001</td>\n",
       "      <td>0.0010</td>\n",
       "      <td>tf</td>\n",
       "      <td>-431.268358</td>\n",
       "    </tr>\n",
       "    <tr>\n",
       "      <th>12</th>\n",
       "      <td>0.0010</td>\n",
       "      <td>0.0010</td>\n",
       "      <td>tf</td>\n",
       "      <td>-431.521401</td>\n",
       "    </tr>\n",
       "    <tr>\n",
       "      <th>40</th>\n",
       "      <td>0.1000</td>\n",
       "      <td>0.0001</td>\n",
       "      <td>tf</td>\n",
       "      <td>-432.288367</td>\n",
       "    </tr>\n",
       "    <tr>\n",
       "      <th>42</th>\n",
       "      <td>0.1000</td>\n",
       "      <td>0.0010</td>\n",
       "      <td>tf</td>\n",
       "      <td>-432.308331</td>\n",
       "    </tr>\n",
       "  </tbody>\n",
       "</table>\n",
       "</div>"
      ],
      "text/plain": [
       "     alpha    beta vectorizer  avg_coherence\n",
       "30  0.0500  0.0001         tf    -429.022708\n",
       "34  0.0500  0.0100         tf    -429.517007\n",
       "32  0.0500  0.0010         tf    -430.196705\n",
       "0   0.0001  0.0001         tf    -430.471584\n",
       "10  0.0010  0.0001         tf    -431.188675\n",
       "2   0.0001  0.0010         tf    -431.268358\n",
       "12  0.0010  0.0010         tf    -431.521401\n",
       "40  0.1000  0.0001         tf    -432.288367\n",
       "42  0.1000  0.0010         tf    -432.308331"
      ]
     },
     "execution_count": 169,
     "metadata": {},
     "output_type": "execute_result"
    }
   ],
   "source": [
    "params_df.sort_values('avg_coherence', ascending = False).iloc[0:9,:]"
   ]
  },
  {
   "cell_type": "code",
   "execution_count": 170,
   "id": "d017c09c",
   "metadata": {},
   "outputs": [
    {
     "data": {
      "application/vnd.plotly.v1+json": {
       "config": {
        "plotlyServerURL": "https://plot.ly"
       },
       "data": [
        {
         "hovertemplate": "alpha=%{x}<br>beta=%{y}<br>avg_coherence=%{marker.color}<extra></extra>",
         "legendgroup": "",
         "marker": {
          "color": [
           -430.4715838453394,
           -431.26835785262546,
           -434.68233391629593,
           -436.881560198065,
           -441.2357510736183,
           -431.1886752939391,
           -431.52140066129925,
           -435.1342736554739,
           -437.0658855744537,
           -441.2387794829265,
           -432.60188151879686,
           -432.90794007028,
           -434.9007008449691,
           -433.6567935939182,
           -442.5236710124581,
           -429.0227082805223,
           -430.1967053384998,
           -429.5170071361791,
           -435.05523227131295,
           -439.91110764498126,
           -432.2883666363333,
           -432.30833069782483,
           -432.9661261085411,
           -434.6909985672025,
           -439.6463546575625
          ],
          "coloraxis": "coloraxis",
          "symbol": "circle"
         },
         "mode": "markers",
         "name": "",
         "orientation": "v",
         "showlegend": false,
         "type": "scatter",
         "x": [
          0.0001,
          0.0001,
          0.0001,
          0.0001,
          0.0001,
          0.001,
          0.001,
          0.001,
          0.001,
          0.001,
          0.01,
          0.01,
          0.01,
          0.01,
          0.01,
          0.05,
          0.05,
          0.05,
          0.05,
          0.05,
          0.1,
          0.1,
          0.1,
          0.1,
          0.1
         ],
         "xaxis": "x",
         "y": [
          0.0001,
          0.001,
          0.01,
          0.05,
          0.1,
          0.0001,
          0.001,
          0.01,
          0.05,
          0.1,
          0.0001,
          0.001,
          0.01,
          0.05,
          0.1,
          0.0001,
          0.001,
          0.01,
          0.05,
          0.1,
          0.0001,
          0.001,
          0.01,
          0.05,
          0.1
         ],
         "yaxis": "y"
        }
       ],
       "layout": {
        "coloraxis": {
         "colorbar": {
          "title": {
           "text": "avg_coherence"
          }
         },
         "colorscale": [
          [
           0,
           "#0d0887"
          ],
          [
           0.1111111111111111,
           "#46039f"
          ],
          [
           0.2222222222222222,
           "#7201a8"
          ],
          [
           0.3333333333333333,
           "#9c179e"
          ],
          [
           0.4444444444444444,
           "#bd3786"
          ],
          [
           0.5555555555555556,
           "#d8576b"
          ],
          [
           0.6666666666666666,
           "#ed7953"
          ],
          [
           0.7777777777777778,
           "#fb9f3a"
          ],
          [
           0.8888888888888888,
           "#fdca26"
          ],
          [
           1,
           "#f0f921"
          ]
         ]
        },
        "legend": {
         "tracegroupgap": 0
        },
        "margin": {
         "t": 60
        },
        "template": {
         "data": {
          "bar": [
           {
            "error_x": {
             "color": "#2a3f5f"
            },
            "error_y": {
             "color": "#2a3f5f"
            },
            "marker": {
             "line": {
              "color": "#E5ECF6",
              "width": 0.5
             },
             "pattern": {
              "fillmode": "overlay",
              "size": 10,
              "solidity": 0.2
             }
            },
            "type": "bar"
           }
          ],
          "barpolar": [
           {
            "marker": {
             "line": {
              "color": "#E5ECF6",
              "width": 0.5
             },
             "pattern": {
              "fillmode": "overlay",
              "size": 10,
              "solidity": 0.2
             }
            },
            "type": "barpolar"
           }
          ],
          "carpet": [
           {
            "aaxis": {
             "endlinecolor": "#2a3f5f",
             "gridcolor": "white",
             "linecolor": "white",
             "minorgridcolor": "white",
             "startlinecolor": "#2a3f5f"
            },
            "baxis": {
             "endlinecolor": "#2a3f5f",
             "gridcolor": "white",
             "linecolor": "white",
             "minorgridcolor": "white",
             "startlinecolor": "#2a3f5f"
            },
            "type": "carpet"
           }
          ],
          "choropleth": [
           {
            "colorbar": {
             "outlinewidth": 0,
             "ticks": ""
            },
            "type": "choropleth"
           }
          ],
          "contour": [
           {
            "colorbar": {
             "outlinewidth": 0,
             "ticks": ""
            },
            "colorscale": [
             [
              0,
              "#0d0887"
             ],
             [
              0.1111111111111111,
              "#46039f"
             ],
             [
              0.2222222222222222,
              "#7201a8"
             ],
             [
              0.3333333333333333,
              "#9c179e"
             ],
             [
              0.4444444444444444,
              "#bd3786"
             ],
             [
              0.5555555555555556,
              "#d8576b"
             ],
             [
              0.6666666666666666,
              "#ed7953"
             ],
             [
              0.7777777777777778,
              "#fb9f3a"
             ],
             [
              0.8888888888888888,
              "#fdca26"
             ],
             [
              1,
              "#f0f921"
             ]
            ],
            "type": "contour"
           }
          ],
          "contourcarpet": [
           {
            "colorbar": {
             "outlinewidth": 0,
             "ticks": ""
            },
            "type": "contourcarpet"
           }
          ],
          "heatmap": [
           {
            "colorbar": {
             "outlinewidth": 0,
             "ticks": ""
            },
            "colorscale": [
             [
              0,
              "#0d0887"
             ],
             [
              0.1111111111111111,
              "#46039f"
             ],
             [
              0.2222222222222222,
              "#7201a8"
             ],
             [
              0.3333333333333333,
              "#9c179e"
             ],
             [
              0.4444444444444444,
              "#bd3786"
             ],
             [
              0.5555555555555556,
              "#d8576b"
             ],
             [
              0.6666666666666666,
              "#ed7953"
             ],
             [
              0.7777777777777778,
              "#fb9f3a"
             ],
             [
              0.8888888888888888,
              "#fdca26"
             ],
             [
              1,
              "#f0f921"
             ]
            ],
            "type": "heatmap"
           }
          ],
          "heatmapgl": [
           {
            "colorbar": {
             "outlinewidth": 0,
             "ticks": ""
            },
            "colorscale": [
             [
              0,
              "#0d0887"
             ],
             [
              0.1111111111111111,
              "#46039f"
             ],
             [
              0.2222222222222222,
              "#7201a8"
             ],
             [
              0.3333333333333333,
              "#9c179e"
             ],
             [
              0.4444444444444444,
              "#bd3786"
             ],
             [
              0.5555555555555556,
              "#d8576b"
             ],
             [
              0.6666666666666666,
              "#ed7953"
             ],
             [
              0.7777777777777778,
              "#fb9f3a"
             ],
             [
              0.8888888888888888,
              "#fdca26"
             ],
             [
              1,
              "#f0f921"
             ]
            ],
            "type": "heatmapgl"
           }
          ],
          "histogram": [
           {
            "marker": {
             "pattern": {
              "fillmode": "overlay",
              "size": 10,
              "solidity": 0.2
             }
            },
            "type": "histogram"
           }
          ],
          "histogram2d": [
           {
            "colorbar": {
             "outlinewidth": 0,
             "ticks": ""
            },
            "colorscale": [
             [
              0,
              "#0d0887"
             ],
             [
              0.1111111111111111,
              "#46039f"
             ],
             [
              0.2222222222222222,
              "#7201a8"
             ],
             [
              0.3333333333333333,
              "#9c179e"
             ],
             [
              0.4444444444444444,
              "#bd3786"
             ],
             [
              0.5555555555555556,
              "#d8576b"
             ],
             [
              0.6666666666666666,
              "#ed7953"
             ],
             [
              0.7777777777777778,
              "#fb9f3a"
             ],
             [
              0.8888888888888888,
              "#fdca26"
             ],
             [
              1,
              "#f0f921"
             ]
            ],
            "type": "histogram2d"
           }
          ],
          "histogram2dcontour": [
           {
            "colorbar": {
             "outlinewidth": 0,
             "ticks": ""
            },
            "colorscale": [
             [
              0,
              "#0d0887"
             ],
             [
              0.1111111111111111,
              "#46039f"
             ],
             [
              0.2222222222222222,
              "#7201a8"
             ],
             [
              0.3333333333333333,
              "#9c179e"
             ],
             [
              0.4444444444444444,
              "#bd3786"
             ],
             [
              0.5555555555555556,
              "#d8576b"
             ],
             [
              0.6666666666666666,
              "#ed7953"
             ],
             [
              0.7777777777777778,
              "#fb9f3a"
             ],
             [
              0.8888888888888888,
              "#fdca26"
             ],
             [
              1,
              "#f0f921"
             ]
            ],
            "type": "histogram2dcontour"
           }
          ],
          "mesh3d": [
           {
            "colorbar": {
             "outlinewidth": 0,
             "ticks": ""
            },
            "type": "mesh3d"
           }
          ],
          "parcoords": [
           {
            "line": {
             "colorbar": {
              "outlinewidth": 0,
              "ticks": ""
             }
            },
            "type": "parcoords"
           }
          ],
          "pie": [
           {
            "automargin": true,
            "type": "pie"
           }
          ],
          "scatter": [
           {
            "marker": {
             "colorbar": {
              "outlinewidth": 0,
              "ticks": ""
             }
            },
            "type": "scatter"
           }
          ],
          "scatter3d": [
           {
            "line": {
             "colorbar": {
              "outlinewidth": 0,
              "ticks": ""
             }
            },
            "marker": {
             "colorbar": {
              "outlinewidth": 0,
              "ticks": ""
             }
            },
            "type": "scatter3d"
           }
          ],
          "scattercarpet": [
           {
            "marker": {
             "colorbar": {
              "outlinewidth": 0,
              "ticks": ""
             }
            },
            "type": "scattercarpet"
           }
          ],
          "scattergeo": [
           {
            "marker": {
             "colorbar": {
              "outlinewidth": 0,
              "ticks": ""
             }
            },
            "type": "scattergeo"
           }
          ],
          "scattergl": [
           {
            "marker": {
             "colorbar": {
              "outlinewidth": 0,
              "ticks": ""
             }
            },
            "type": "scattergl"
           }
          ],
          "scattermapbox": [
           {
            "marker": {
             "colorbar": {
              "outlinewidth": 0,
              "ticks": ""
             }
            },
            "type": "scattermapbox"
           }
          ],
          "scatterpolar": [
           {
            "marker": {
             "colorbar": {
              "outlinewidth": 0,
              "ticks": ""
             }
            },
            "type": "scatterpolar"
           }
          ],
          "scatterpolargl": [
           {
            "marker": {
             "colorbar": {
              "outlinewidth": 0,
              "ticks": ""
             }
            },
            "type": "scatterpolargl"
           }
          ],
          "scatterternary": [
           {
            "marker": {
             "colorbar": {
              "outlinewidth": 0,
              "ticks": ""
             }
            },
            "type": "scatterternary"
           }
          ],
          "surface": [
           {
            "colorbar": {
             "outlinewidth": 0,
             "ticks": ""
            },
            "colorscale": [
             [
              0,
              "#0d0887"
             ],
             [
              0.1111111111111111,
              "#46039f"
             ],
             [
              0.2222222222222222,
              "#7201a8"
             ],
             [
              0.3333333333333333,
              "#9c179e"
             ],
             [
              0.4444444444444444,
              "#bd3786"
             ],
             [
              0.5555555555555556,
              "#d8576b"
             ],
             [
              0.6666666666666666,
              "#ed7953"
             ],
             [
              0.7777777777777778,
              "#fb9f3a"
             ],
             [
              0.8888888888888888,
              "#fdca26"
             ],
             [
              1,
              "#f0f921"
             ]
            ],
            "type": "surface"
           }
          ],
          "table": [
           {
            "cells": {
             "fill": {
              "color": "#EBF0F8"
             },
             "line": {
              "color": "white"
             }
            },
            "header": {
             "fill": {
              "color": "#C8D4E3"
             },
             "line": {
              "color": "white"
             }
            },
            "type": "table"
           }
          ]
         },
         "layout": {
          "annotationdefaults": {
           "arrowcolor": "#2a3f5f",
           "arrowhead": 0,
           "arrowwidth": 1
          },
          "autotypenumbers": "strict",
          "coloraxis": {
           "colorbar": {
            "outlinewidth": 0,
            "ticks": ""
           }
          },
          "colorscale": {
           "diverging": [
            [
             0,
             "#8e0152"
            ],
            [
             0.1,
             "#c51b7d"
            ],
            [
             0.2,
             "#de77ae"
            ],
            [
             0.3,
             "#f1b6da"
            ],
            [
             0.4,
             "#fde0ef"
            ],
            [
             0.5,
             "#f7f7f7"
            ],
            [
             0.6,
             "#e6f5d0"
            ],
            [
             0.7,
             "#b8e186"
            ],
            [
             0.8,
             "#7fbc41"
            ],
            [
             0.9,
             "#4d9221"
            ],
            [
             1,
             "#276419"
            ]
           ],
           "sequential": [
            [
             0,
             "#0d0887"
            ],
            [
             0.1111111111111111,
             "#46039f"
            ],
            [
             0.2222222222222222,
             "#7201a8"
            ],
            [
             0.3333333333333333,
             "#9c179e"
            ],
            [
             0.4444444444444444,
             "#bd3786"
            ],
            [
             0.5555555555555556,
             "#d8576b"
            ],
            [
             0.6666666666666666,
             "#ed7953"
            ],
            [
             0.7777777777777778,
             "#fb9f3a"
            ],
            [
             0.8888888888888888,
             "#fdca26"
            ],
            [
             1,
             "#f0f921"
            ]
           ],
           "sequentialminus": [
            [
             0,
             "#0d0887"
            ],
            [
             0.1111111111111111,
             "#46039f"
            ],
            [
             0.2222222222222222,
             "#7201a8"
            ],
            [
             0.3333333333333333,
             "#9c179e"
            ],
            [
             0.4444444444444444,
             "#bd3786"
            ],
            [
             0.5555555555555556,
             "#d8576b"
            ],
            [
             0.6666666666666666,
             "#ed7953"
            ],
            [
             0.7777777777777778,
             "#fb9f3a"
            ],
            [
             0.8888888888888888,
             "#fdca26"
            ],
            [
             1,
             "#f0f921"
            ]
           ]
          },
          "colorway": [
           "#636efa",
           "#EF553B",
           "#00cc96",
           "#ab63fa",
           "#FFA15A",
           "#19d3f3",
           "#FF6692",
           "#B6E880",
           "#FF97FF",
           "#FECB52"
          ],
          "font": {
           "color": "#2a3f5f"
          },
          "geo": {
           "bgcolor": "white",
           "lakecolor": "white",
           "landcolor": "#E5ECF6",
           "showlakes": true,
           "showland": true,
           "subunitcolor": "white"
          },
          "hoverlabel": {
           "align": "left"
          },
          "hovermode": "closest",
          "mapbox": {
           "style": "light"
          },
          "paper_bgcolor": "white",
          "plot_bgcolor": "#E5ECF6",
          "polar": {
           "angularaxis": {
            "gridcolor": "white",
            "linecolor": "white",
            "ticks": ""
           },
           "bgcolor": "#E5ECF6",
           "radialaxis": {
            "gridcolor": "white",
            "linecolor": "white",
            "ticks": ""
           }
          },
          "scene": {
           "xaxis": {
            "backgroundcolor": "#E5ECF6",
            "gridcolor": "white",
            "gridwidth": 2,
            "linecolor": "white",
            "showbackground": true,
            "ticks": "",
            "zerolinecolor": "white"
           },
           "yaxis": {
            "backgroundcolor": "#E5ECF6",
            "gridcolor": "white",
            "gridwidth": 2,
            "linecolor": "white",
            "showbackground": true,
            "ticks": "",
            "zerolinecolor": "white"
           },
           "zaxis": {
            "backgroundcolor": "#E5ECF6",
            "gridcolor": "white",
            "gridwidth": 2,
            "linecolor": "white",
            "showbackground": true,
            "ticks": "",
            "zerolinecolor": "white"
           }
          },
          "shapedefaults": {
           "line": {
            "color": "#2a3f5f"
           }
          },
          "ternary": {
           "aaxis": {
            "gridcolor": "white",
            "linecolor": "white",
            "ticks": ""
           },
           "baxis": {
            "gridcolor": "white",
            "linecolor": "white",
            "ticks": ""
           },
           "bgcolor": "#E5ECF6",
           "caxis": {
            "gridcolor": "white",
            "linecolor": "white",
            "ticks": ""
           }
          },
          "title": {
           "x": 0.05
          },
          "xaxis": {
           "automargin": true,
           "gridcolor": "white",
           "linecolor": "white",
           "ticks": "",
           "title": {
            "standoff": 15
           },
           "zerolinecolor": "white",
           "zerolinewidth": 2
          },
          "yaxis": {
           "automargin": true,
           "gridcolor": "white",
           "linecolor": "white",
           "ticks": "",
           "title": {
            "standoff": 15
           },
           "zerolinecolor": "white",
           "zerolinewidth": 2
          }
         }
        },
        "xaxis": {
         "anchor": "y",
         "domain": [
          0,
          1
         ],
         "title": {
          "text": "alpha"
         }
        },
        "yaxis": {
         "anchor": "x",
         "domain": [
          0,
          1
         ],
         "title": {
          "text": "beta"
         }
        }
       }
      },
      "text/html": [
       "<div>                            <div id=\"f23a7a71-7029-4adf-9c80-4b1d230e6729\" class=\"plotly-graph-div\" style=\"height:525px; width:100%;\"></div>            <script type=\"text/javascript\">                require([\"plotly\"], function(Plotly) {                    window.PLOTLYENV=window.PLOTLYENV || {};                                    if (document.getElementById(\"f23a7a71-7029-4adf-9c80-4b1d230e6729\")) {                    Plotly.newPlot(                        \"f23a7a71-7029-4adf-9c80-4b1d230e6729\",                        [{\"hovertemplate\":\"alpha=%{x}<br>beta=%{y}<br>avg_coherence=%{marker.color}<extra></extra>\",\"legendgroup\":\"\",\"marker\":{\"color\":[-430.4715838453394,-431.26835785262546,-434.68233391629593,-436.881560198065,-441.2357510736183,-431.1886752939391,-431.52140066129925,-435.1342736554739,-437.0658855744537,-441.2387794829265,-432.60188151879686,-432.90794007028,-434.9007008449691,-433.6567935939182,-442.5236710124581,-429.0227082805223,-430.1967053384998,-429.5170071361791,-435.05523227131295,-439.91110764498126,-432.2883666363333,-432.30833069782483,-432.9661261085411,-434.6909985672025,-439.6463546575625],\"coloraxis\":\"coloraxis\",\"symbol\":\"circle\"},\"mode\":\"markers\",\"name\":\"\",\"orientation\":\"v\",\"showlegend\":false,\"x\":[0.0001,0.0001,0.0001,0.0001,0.0001,0.001,0.001,0.001,0.001,0.001,0.01,0.01,0.01,0.01,0.01,0.05,0.05,0.05,0.05,0.05,0.1,0.1,0.1,0.1,0.1],\"xaxis\":\"x\",\"y\":[0.0001,0.001,0.01,0.05,0.1,0.0001,0.001,0.01,0.05,0.1,0.0001,0.001,0.01,0.05,0.1,0.0001,0.001,0.01,0.05,0.1,0.0001,0.001,0.01,0.05,0.1],\"yaxis\":\"y\",\"type\":\"scatter\"}],                        {\"template\":{\"data\":{\"bar\":[{\"error_x\":{\"color\":\"#2a3f5f\"},\"error_y\":{\"color\":\"#2a3f5f\"},\"marker\":{\"line\":{\"color\":\"#E5ECF6\",\"width\":0.5},\"pattern\":{\"fillmode\":\"overlay\",\"size\":10,\"solidity\":0.2}},\"type\":\"bar\"}],\"barpolar\":[{\"marker\":{\"line\":{\"color\":\"#E5ECF6\",\"width\":0.5},\"pattern\":{\"fillmode\":\"overlay\",\"size\":10,\"solidity\":0.2}},\"type\":\"barpolar\"}],\"carpet\":[{\"aaxis\":{\"endlinecolor\":\"#2a3f5f\",\"gridcolor\":\"white\",\"linecolor\":\"white\",\"minorgridcolor\":\"white\",\"startlinecolor\":\"#2a3f5f\"},\"baxis\":{\"endlinecolor\":\"#2a3f5f\",\"gridcolor\":\"white\",\"linecolor\":\"white\",\"minorgridcolor\":\"white\",\"startlinecolor\":\"#2a3f5f\"},\"type\":\"carpet\"}],\"choropleth\":[{\"colorbar\":{\"outlinewidth\":0,\"ticks\":\"\"},\"type\":\"choropleth\"}],\"contour\":[{\"colorbar\":{\"outlinewidth\":0,\"ticks\":\"\"},\"colorscale\":[[0.0,\"#0d0887\"],[0.1111111111111111,\"#46039f\"],[0.2222222222222222,\"#7201a8\"],[0.3333333333333333,\"#9c179e\"],[0.4444444444444444,\"#bd3786\"],[0.5555555555555556,\"#d8576b\"],[0.6666666666666666,\"#ed7953\"],[0.7777777777777778,\"#fb9f3a\"],[0.8888888888888888,\"#fdca26\"],[1.0,\"#f0f921\"]],\"type\":\"contour\"}],\"contourcarpet\":[{\"colorbar\":{\"outlinewidth\":0,\"ticks\":\"\"},\"type\":\"contourcarpet\"}],\"heatmap\":[{\"colorbar\":{\"outlinewidth\":0,\"ticks\":\"\"},\"colorscale\":[[0.0,\"#0d0887\"],[0.1111111111111111,\"#46039f\"],[0.2222222222222222,\"#7201a8\"],[0.3333333333333333,\"#9c179e\"],[0.4444444444444444,\"#bd3786\"],[0.5555555555555556,\"#d8576b\"],[0.6666666666666666,\"#ed7953\"],[0.7777777777777778,\"#fb9f3a\"],[0.8888888888888888,\"#fdca26\"],[1.0,\"#f0f921\"]],\"type\":\"heatmap\"}],\"heatmapgl\":[{\"colorbar\":{\"outlinewidth\":0,\"ticks\":\"\"},\"colorscale\":[[0.0,\"#0d0887\"],[0.1111111111111111,\"#46039f\"],[0.2222222222222222,\"#7201a8\"],[0.3333333333333333,\"#9c179e\"],[0.4444444444444444,\"#bd3786\"],[0.5555555555555556,\"#d8576b\"],[0.6666666666666666,\"#ed7953\"],[0.7777777777777778,\"#fb9f3a\"],[0.8888888888888888,\"#fdca26\"],[1.0,\"#f0f921\"]],\"type\":\"heatmapgl\"}],\"histogram\":[{\"marker\":{\"pattern\":{\"fillmode\":\"overlay\",\"size\":10,\"solidity\":0.2}},\"type\":\"histogram\"}],\"histogram2d\":[{\"colorbar\":{\"outlinewidth\":0,\"ticks\":\"\"},\"colorscale\":[[0.0,\"#0d0887\"],[0.1111111111111111,\"#46039f\"],[0.2222222222222222,\"#7201a8\"],[0.3333333333333333,\"#9c179e\"],[0.4444444444444444,\"#bd3786\"],[0.5555555555555556,\"#d8576b\"],[0.6666666666666666,\"#ed7953\"],[0.7777777777777778,\"#fb9f3a\"],[0.8888888888888888,\"#fdca26\"],[1.0,\"#f0f921\"]],\"type\":\"histogram2d\"}],\"histogram2dcontour\":[{\"colorbar\":{\"outlinewidth\":0,\"ticks\":\"\"},\"colorscale\":[[0.0,\"#0d0887\"],[0.1111111111111111,\"#46039f\"],[0.2222222222222222,\"#7201a8\"],[0.3333333333333333,\"#9c179e\"],[0.4444444444444444,\"#bd3786\"],[0.5555555555555556,\"#d8576b\"],[0.6666666666666666,\"#ed7953\"],[0.7777777777777778,\"#fb9f3a\"],[0.8888888888888888,\"#fdca26\"],[1.0,\"#f0f921\"]],\"type\":\"histogram2dcontour\"}],\"mesh3d\":[{\"colorbar\":{\"outlinewidth\":0,\"ticks\":\"\"},\"type\":\"mesh3d\"}],\"parcoords\":[{\"line\":{\"colorbar\":{\"outlinewidth\":0,\"ticks\":\"\"}},\"type\":\"parcoords\"}],\"pie\":[{\"automargin\":true,\"type\":\"pie\"}],\"scatter\":[{\"marker\":{\"colorbar\":{\"outlinewidth\":0,\"ticks\":\"\"}},\"type\":\"scatter\"}],\"scatter3d\":[{\"line\":{\"colorbar\":{\"outlinewidth\":0,\"ticks\":\"\"}},\"marker\":{\"colorbar\":{\"outlinewidth\":0,\"ticks\":\"\"}},\"type\":\"scatter3d\"}],\"scattercarpet\":[{\"marker\":{\"colorbar\":{\"outlinewidth\":0,\"ticks\":\"\"}},\"type\":\"scattercarpet\"}],\"scattergeo\":[{\"marker\":{\"colorbar\":{\"outlinewidth\":0,\"ticks\":\"\"}},\"type\":\"scattergeo\"}],\"scattergl\":[{\"marker\":{\"colorbar\":{\"outlinewidth\":0,\"ticks\":\"\"}},\"type\":\"scattergl\"}],\"scattermapbox\":[{\"marker\":{\"colorbar\":{\"outlinewidth\":0,\"ticks\":\"\"}},\"type\":\"scattermapbox\"}],\"scatterpolar\":[{\"marker\":{\"colorbar\":{\"outlinewidth\":0,\"ticks\":\"\"}},\"type\":\"scatterpolar\"}],\"scatterpolargl\":[{\"marker\":{\"colorbar\":{\"outlinewidth\":0,\"ticks\":\"\"}},\"type\":\"scatterpolargl\"}],\"scatterternary\":[{\"marker\":{\"colorbar\":{\"outlinewidth\":0,\"ticks\":\"\"}},\"type\":\"scatterternary\"}],\"surface\":[{\"colorbar\":{\"outlinewidth\":0,\"ticks\":\"\"},\"colorscale\":[[0.0,\"#0d0887\"],[0.1111111111111111,\"#46039f\"],[0.2222222222222222,\"#7201a8\"],[0.3333333333333333,\"#9c179e\"],[0.4444444444444444,\"#bd3786\"],[0.5555555555555556,\"#d8576b\"],[0.6666666666666666,\"#ed7953\"],[0.7777777777777778,\"#fb9f3a\"],[0.8888888888888888,\"#fdca26\"],[1.0,\"#f0f921\"]],\"type\":\"surface\"}],\"table\":[{\"cells\":{\"fill\":{\"color\":\"#EBF0F8\"},\"line\":{\"color\":\"white\"}},\"header\":{\"fill\":{\"color\":\"#C8D4E3\"},\"line\":{\"color\":\"white\"}},\"type\":\"table\"}]},\"layout\":{\"annotationdefaults\":{\"arrowcolor\":\"#2a3f5f\",\"arrowhead\":0,\"arrowwidth\":1},\"autotypenumbers\":\"strict\",\"coloraxis\":{\"colorbar\":{\"outlinewidth\":0,\"ticks\":\"\"}},\"colorscale\":{\"diverging\":[[0,\"#8e0152\"],[0.1,\"#c51b7d\"],[0.2,\"#de77ae\"],[0.3,\"#f1b6da\"],[0.4,\"#fde0ef\"],[0.5,\"#f7f7f7\"],[0.6,\"#e6f5d0\"],[0.7,\"#b8e186\"],[0.8,\"#7fbc41\"],[0.9,\"#4d9221\"],[1,\"#276419\"]],\"sequential\":[[0.0,\"#0d0887\"],[0.1111111111111111,\"#46039f\"],[0.2222222222222222,\"#7201a8\"],[0.3333333333333333,\"#9c179e\"],[0.4444444444444444,\"#bd3786\"],[0.5555555555555556,\"#d8576b\"],[0.6666666666666666,\"#ed7953\"],[0.7777777777777778,\"#fb9f3a\"],[0.8888888888888888,\"#fdca26\"],[1.0,\"#f0f921\"]],\"sequentialminus\":[[0.0,\"#0d0887\"],[0.1111111111111111,\"#46039f\"],[0.2222222222222222,\"#7201a8\"],[0.3333333333333333,\"#9c179e\"],[0.4444444444444444,\"#bd3786\"],[0.5555555555555556,\"#d8576b\"],[0.6666666666666666,\"#ed7953\"],[0.7777777777777778,\"#fb9f3a\"],[0.8888888888888888,\"#fdca26\"],[1.0,\"#f0f921\"]]},\"colorway\":[\"#636efa\",\"#EF553B\",\"#00cc96\",\"#ab63fa\",\"#FFA15A\",\"#19d3f3\",\"#FF6692\",\"#B6E880\",\"#FF97FF\",\"#FECB52\"],\"font\":{\"color\":\"#2a3f5f\"},\"geo\":{\"bgcolor\":\"white\",\"lakecolor\":\"white\",\"landcolor\":\"#E5ECF6\",\"showlakes\":true,\"showland\":true,\"subunitcolor\":\"white\"},\"hoverlabel\":{\"align\":\"left\"},\"hovermode\":\"closest\",\"mapbox\":{\"style\":\"light\"},\"paper_bgcolor\":\"white\",\"plot_bgcolor\":\"#E5ECF6\",\"polar\":{\"angularaxis\":{\"gridcolor\":\"white\",\"linecolor\":\"white\",\"ticks\":\"\"},\"bgcolor\":\"#E5ECF6\",\"radialaxis\":{\"gridcolor\":\"white\",\"linecolor\":\"white\",\"ticks\":\"\"}},\"scene\":{\"xaxis\":{\"backgroundcolor\":\"#E5ECF6\",\"gridcolor\":\"white\",\"gridwidth\":2,\"linecolor\":\"white\",\"showbackground\":true,\"ticks\":\"\",\"zerolinecolor\":\"white\"},\"yaxis\":{\"backgroundcolor\":\"#E5ECF6\",\"gridcolor\":\"white\",\"gridwidth\":2,\"linecolor\":\"white\",\"showbackground\":true,\"ticks\":\"\",\"zerolinecolor\":\"white\"},\"zaxis\":{\"backgroundcolor\":\"#E5ECF6\",\"gridcolor\":\"white\",\"gridwidth\":2,\"linecolor\":\"white\",\"showbackground\":true,\"ticks\":\"\",\"zerolinecolor\":\"white\"}},\"shapedefaults\":{\"line\":{\"color\":\"#2a3f5f\"}},\"ternary\":{\"aaxis\":{\"gridcolor\":\"white\",\"linecolor\":\"white\",\"ticks\":\"\"},\"baxis\":{\"gridcolor\":\"white\",\"linecolor\":\"white\",\"ticks\":\"\"},\"bgcolor\":\"#E5ECF6\",\"caxis\":{\"gridcolor\":\"white\",\"linecolor\":\"white\",\"ticks\":\"\"}},\"title\":{\"x\":0.05},\"xaxis\":{\"automargin\":true,\"gridcolor\":\"white\",\"linecolor\":\"white\",\"ticks\":\"\",\"title\":{\"standoff\":15},\"zerolinecolor\":\"white\",\"zerolinewidth\":2},\"yaxis\":{\"automargin\":true,\"gridcolor\":\"white\",\"linecolor\":\"white\",\"ticks\":\"\",\"title\":{\"standoff\":15},\"zerolinecolor\":\"white\",\"zerolinewidth\":2}}},\"xaxis\":{\"anchor\":\"y\",\"domain\":[0.0,1.0],\"title\":{\"text\":\"alpha\"}},\"yaxis\":{\"anchor\":\"x\",\"domain\":[0.0,1.0],\"title\":{\"text\":\"beta\"}},\"coloraxis\":{\"colorbar\":{\"title\":{\"text\":\"avg_coherence\"}},\"colorscale\":[[0.0,\"#0d0887\"],[0.1111111111111111,\"#46039f\"],[0.2222222222222222,\"#7201a8\"],[0.3333333333333333,\"#9c179e\"],[0.4444444444444444,\"#bd3786\"],[0.5555555555555556,\"#d8576b\"],[0.6666666666666666,\"#ed7953\"],[0.7777777777777778,\"#fb9f3a\"],[0.8888888888888888,\"#fdca26\"],[1.0,\"#f0f921\"]]},\"legend\":{\"tracegroupgap\":0},\"margin\":{\"t\":60}},                        {\"responsive\": true}                    ).then(function(){\n",
       "                            \n",
       "var gd = document.getElementById('f23a7a71-7029-4adf-9c80-4b1d230e6729');\n",
       "var x = new MutationObserver(function (mutations, observer) {{\n",
       "        var display = window.getComputedStyle(gd).display;\n",
       "        if (!display || display === 'none') {{\n",
       "            console.log([gd, 'removed!']);\n",
       "            Plotly.purge(gd);\n",
       "            observer.disconnect();\n",
       "        }}\n",
       "}});\n",
       "\n",
       "// Listen for the removal of the full notebook cells\n",
       "var notebookContainer = gd.closest('#notebook-container');\n",
       "if (notebookContainer) {{\n",
       "    x.observe(notebookContainer, {childList: true});\n",
       "}}\n",
       "\n",
       "// Listen for the clearing of the current output cell\n",
       "var outputEl = gd.closest('.output');\n",
       "if (outputEl) {{\n",
       "    x.observe(outputEl, {childList: true});\n",
       "}}\n",
       "\n",
       "                        })                };                });            </script>        </div>"
      ]
     },
     "metadata": {},
     "output_type": "display_data"
    }
   ],
   "source": [
    "fig = px.scatter(params_df[params_df['vectorizer']=='tf'], x=\"alpha\", y=\"beta\", color=\"avg_coherence\")\n",
    "fig.show()"
   ]
  },
  {
   "cell_type": "markdown",
   "id": "4f4b9676",
   "metadata": {},
   "source": [
    "Consindering LDA with TF values assuming 28 topics, the value of alpha parameter is suggested at **0.05** and the value of beta suggested at **0.0001**. Average coherence is around **-429.022**"
   ]
  },
  {
   "cell_type": "code",
   "execution_count": 171,
   "id": "b53e76d2",
   "metadata": {},
   "outputs": [
    {
     "data": {
      "application/vnd.plotly.v1+json": {
       "config": {
        "plotlyServerURL": "https://plot.ly"
       },
       "data": [
        {
         "hovertemplate": "alpha=%{x}<br>beta=%{y}<br>avg_coherence=%{marker.color}<extra></extra>",
         "legendgroup": "",
         "marker": {
          "color": [
           -608.1485535431165,
           -608.2802027864212,
           -605.5360538638578,
           -598.3605316528685,
           -599.5714620176539,
           -608.0536793580137,
           -608.0732709991474,
           -605.4237084202562,
           -598.249562925516,
           -599.7737984310571,
           -609.3149276826641,
           -609.3149276826641,
           -611.4858805208003,
           -614.1612948553255,
           -607.3040593136639,
           -626.31547555048,
           -625.1841891603557,
           -621.3246729803521,
           -622.8085314153062,
           -615.2999977652555,
           -640.6785121436757,
           -640.7203900996159,
           -642.5946370612983,
           -640.2059833301283,
           -643.4107317550436
          ],
          "coloraxis": "coloraxis",
          "symbol": "circle"
         },
         "mode": "markers",
         "name": "",
         "orientation": "v",
         "showlegend": false,
         "type": "scatter",
         "x": [
          0.0001,
          0.0001,
          0.0001,
          0.0001,
          0.0001,
          0.001,
          0.001,
          0.001,
          0.001,
          0.001,
          0.01,
          0.01,
          0.01,
          0.01,
          0.01,
          0.05,
          0.05,
          0.05,
          0.05,
          0.05,
          0.1,
          0.1,
          0.1,
          0.1,
          0.1
         ],
         "xaxis": "x",
         "y": [
          0.0001,
          0.001,
          0.01,
          0.05,
          0.1,
          0.0001,
          0.001,
          0.01,
          0.05,
          0.1,
          0.0001,
          0.001,
          0.01,
          0.05,
          0.1,
          0.0001,
          0.001,
          0.01,
          0.05,
          0.1,
          0.0001,
          0.001,
          0.01,
          0.05,
          0.1
         ],
         "yaxis": "y"
        }
       ],
       "layout": {
        "coloraxis": {
         "colorbar": {
          "title": {
           "text": "avg_coherence"
          }
         },
         "colorscale": [
          [
           0,
           "#0d0887"
          ],
          [
           0.1111111111111111,
           "#46039f"
          ],
          [
           0.2222222222222222,
           "#7201a8"
          ],
          [
           0.3333333333333333,
           "#9c179e"
          ],
          [
           0.4444444444444444,
           "#bd3786"
          ],
          [
           0.5555555555555556,
           "#d8576b"
          ],
          [
           0.6666666666666666,
           "#ed7953"
          ],
          [
           0.7777777777777778,
           "#fb9f3a"
          ],
          [
           0.8888888888888888,
           "#fdca26"
          ],
          [
           1,
           "#f0f921"
          ]
         ]
        },
        "legend": {
         "tracegroupgap": 0
        },
        "margin": {
         "t": 60
        },
        "template": {
         "data": {
          "bar": [
           {
            "error_x": {
             "color": "#2a3f5f"
            },
            "error_y": {
             "color": "#2a3f5f"
            },
            "marker": {
             "line": {
              "color": "#E5ECF6",
              "width": 0.5
             },
             "pattern": {
              "fillmode": "overlay",
              "size": 10,
              "solidity": 0.2
             }
            },
            "type": "bar"
           }
          ],
          "barpolar": [
           {
            "marker": {
             "line": {
              "color": "#E5ECF6",
              "width": 0.5
             },
             "pattern": {
              "fillmode": "overlay",
              "size": 10,
              "solidity": 0.2
             }
            },
            "type": "barpolar"
           }
          ],
          "carpet": [
           {
            "aaxis": {
             "endlinecolor": "#2a3f5f",
             "gridcolor": "white",
             "linecolor": "white",
             "minorgridcolor": "white",
             "startlinecolor": "#2a3f5f"
            },
            "baxis": {
             "endlinecolor": "#2a3f5f",
             "gridcolor": "white",
             "linecolor": "white",
             "minorgridcolor": "white",
             "startlinecolor": "#2a3f5f"
            },
            "type": "carpet"
           }
          ],
          "choropleth": [
           {
            "colorbar": {
             "outlinewidth": 0,
             "ticks": ""
            },
            "type": "choropleth"
           }
          ],
          "contour": [
           {
            "colorbar": {
             "outlinewidth": 0,
             "ticks": ""
            },
            "colorscale": [
             [
              0,
              "#0d0887"
             ],
             [
              0.1111111111111111,
              "#46039f"
             ],
             [
              0.2222222222222222,
              "#7201a8"
             ],
             [
              0.3333333333333333,
              "#9c179e"
             ],
             [
              0.4444444444444444,
              "#bd3786"
             ],
             [
              0.5555555555555556,
              "#d8576b"
             ],
             [
              0.6666666666666666,
              "#ed7953"
             ],
             [
              0.7777777777777778,
              "#fb9f3a"
             ],
             [
              0.8888888888888888,
              "#fdca26"
             ],
             [
              1,
              "#f0f921"
             ]
            ],
            "type": "contour"
           }
          ],
          "contourcarpet": [
           {
            "colorbar": {
             "outlinewidth": 0,
             "ticks": ""
            },
            "type": "contourcarpet"
           }
          ],
          "heatmap": [
           {
            "colorbar": {
             "outlinewidth": 0,
             "ticks": ""
            },
            "colorscale": [
             [
              0,
              "#0d0887"
             ],
             [
              0.1111111111111111,
              "#46039f"
             ],
             [
              0.2222222222222222,
              "#7201a8"
             ],
             [
              0.3333333333333333,
              "#9c179e"
             ],
             [
              0.4444444444444444,
              "#bd3786"
             ],
             [
              0.5555555555555556,
              "#d8576b"
             ],
             [
              0.6666666666666666,
              "#ed7953"
             ],
             [
              0.7777777777777778,
              "#fb9f3a"
             ],
             [
              0.8888888888888888,
              "#fdca26"
             ],
             [
              1,
              "#f0f921"
             ]
            ],
            "type": "heatmap"
           }
          ],
          "heatmapgl": [
           {
            "colorbar": {
             "outlinewidth": 0,
             "ticks": ""
            },
            "colorscale": [
             [
              0,
              "#0d0887"
             ],
             [
              0.1111111111111111,
              "#46039f"
             ],
             [
              0.2222222222222222,
              "#7201a8"
             ],
             [
              0.3333333333333333,
              "#9c179e"
             ],
             [
              0.4444444444444444,
              "#bd3786"
             ],
             [
              0.5555555555555556,
              "#d8576b"
             ],
             [
              0.6666666666666666,
              "#ed7953"
             ],
             [
              0.7777777777777778,
              "#fb9f3a"
             ],
             [
              0.8888888888888888,
              "#fdca26"
             ],
             [
              1,
              "#f0f921"
             ]
            ],
            "type": "heatmapgl"
           }
          ],
          "histogram": [
           {
            "marker": {
             "pattern": {
              "fillmode": "overlay",
              "size": 10,
              "solidity": 0.2
             }
            },
            "type": "histogram"
           }
          ],
          "histogram2d": [
           {
            "colorbar": {
             "outlinewidth": 0,
             "ticks": ""
            },
            "colorscale": [
             [
              0,
              "#0d0887"
             ],
             [
              0.1111111111111111,
              "#46039f"
             ],
             [
              0.2222222222222222,
              "#7201a8"
             ],
             [
              0.3333333333333333,
              "#9c179e"
             ],
             [
              0.4444444444444444,
              "#bd3786"
             ],
             [
              0.5555555555555556,
              "#d8576b"
             ],
             [
              0.6666666666666666,
              "#ed7953"
             ],
             [
              0.7777777777777778,
              "#fb9f3a"
             ],
             [
              0.8888888888888888,
              "#fdca26"
             ],
             [
              1,
              "#f0f921"
             ]
            ],
            "type": "histogram2d"
           }
          ],
          "histogram2dcontour": [
           {
            "colorbar": {
             "outlinewidth": 0,
             "ticks": ""
            },
            "colorscale": [
             [
              0,
              "#0d0887"
             ],
             [
              0.1111111111111111,
              "#46039f"
             ],
             [
              0.2222222222222222,
              "#7201a8"
             ],
             [
              0.3333333333333333,
              "#9c179e"
             ],
             [
              0.4444444444444444,
              "#bd3786"
             ],
             [
              0.5555555555555556,
              "#d8576b"
             ],
             [
              0.6666666666666666,
              "#ed7953"
             ],
             [
              0.7777777777777778,
              "#fb9f3a"
             ],
             [
              0.8888888888888888,
              "#fdca26"
             ],
             [
              1,
              "#f0f921"
             ]
            ],
            "type": "histogram2dcontour"
           }
          ],
          "mesh3d": [
           {
            "colorbar": {
             "outlinewidth": 0,
             "ticks": ""
            },
            "type": "mesh3d"
           }
          ],
          "parcoords": [
           {
            "line": {
             "colorbar": {
              "outlinewidth": 0,
              "ticks": ""
             }
            },
            "type": "parcoords"
           }
          ],
          "pie": [
           {
            "automargin": true,
            "type": "pie"
           }
          ],
          "scatter": [
           {
            "marker": {
             "colorbar": {
              "outlinewidth": 0,
              "ticks": ""
             }
            },
            "type": "scatter"
           }
          ],
          "scatter3d": [
           {
            "line": {
             "colorbar": {
              "outlinewidth": 0,
              "ticks": ""
             }
            },
            "marker": {
             "colorbar": {
              "outlinewidth": 0,
              "ticks": ""
             }
            },
            "type": "scatter3d"
           }
          ],
          "scattercarpet": [
           {
            "marker": {
             "colorbar": {
              "outlinewidth": 0,
              "ticks": ""
             }
            },
            "type": "scattercarpet"
           }
          ],
          "scattergeo": [
           {
            "marker": {
             "colorbar": {
              "outlinewidth": 0,
              "ticks": ""
             }
            },
            "type": "scattergeo"
           }
          ],
          "scattergl": [
           {
            "marker": {
             "colorbar": {
              "outlinewidth": 0,
              "ticks": ""
             }
            },
            "type": "scattergl"
           }
          ],
          "scattermapbox": [
           {
            "marker": {
             "colorbar": {
              "outlinewidth": 0,
              "ticks": ""
             }
            },
            "type": "scattermapbox"
           }
          ],
          "scatterpolar": [
           {
            "marker": {
             "colorbar": {
              "outlinewidth": 0,
              "ticks": ""
             }
            },
            "type": "scatterpolar"
           }
          ],
          "scatterpolargl": [
           {
            "marker": {
             "colorbar": {
              "outlinewidth": 0,
              "ticks": ""
             }
            },
            "type": "scatterpolargl"
           }
          ],
          "scatterternary": [
           {
            "marker": {
             "colorbar": {
              "outlinewidth": 0,
              "ticks": ""
             }
            },
            "type": "scatterternary"
           }
          ],
          "surface": [
           {
            "colorbar": {
             "outlinewidth": 0,
             "ticks": ""
            },
            "colorscale": [
             [
              0,
              "#0d0887"
             ],
             [
              0.1111111111111111,
              "#46039f"
             ],
             [
              0.2222222222222222,
              "#7201a8"
             ],
             [
              0.3333333333333333,
              "#9c179e"
             ],
             [
              0.4444444444444444,
              "#bd3786"
             ],
             [
              0.5555555555555556,
              "#d8576b"
             ],
             [
              0.6666666666666666,
              "#ed7953"
             ],
             [
              0.7777777777777778,
              "#fb9f3a"
             ],
             [
              0.8888888888888888,
              "#fdca26"
             ],
             [
              1,
              "#f0f921"
             ]
            ],
            "type": "surface"
           }
          ],
          "table": [
           {
            "cells": {
             "fill": {
              "color": "#EBF0F8"
             },
             "line": {
              "color": "white"
             }
            },
            "header": {
             "fill": {
              "color": "#C8D4E3"
             },
             "line": {
              "color": "white"
             }
            },
            "type": "table"
           }
          ]
         },
         "layout": {
          "annotationdefaults": {
           "arrowcolor": "#2a3f5f",
           "arrowhead": 0,
           "arrowwidth": 1
          },
          "autotypenumbers": "strict",
          "coloraxis": {
           "colorbar": {
            "outlinewidth": 0,
            "ticks": ""
           }
          },
          "colorscale": {
           "diverging": [
            [
             0,
             "#8e0152"
            ],
            [
             0.1,
             "#c51b7d"
            ],
            [
             0.2,
             "#de77ae"
            ],
            [
             0.3,
             "#f1b6da"
            ],
            [
             0.4,
             "#fde0ef"
            ],
            [
             0.5,
             "#f7f7f7"
            ],
            [
             0.6,
             "#e6f5d0"
            ],
            [
             0.7,
             "#b8e186"
            ],
            [
             0.8,
             "#7fbc41"
            ],
            [
             0.9,
             "#4d9221"
            ],
            [
             1,
             "#276419"
            ]
           ],
           "sequential": [
            [
             0,
             "#0d0887"
            ],
            [
             0.1111111111111111,
             "#46039f"
            ],
            [
             0.2222222222222222,
             "#7201a8"
            ],
            [
             0.3333333333333333,
             "#9c179e"
            ],
            [
             0.4444444444444444,
             "#bd3786"
            ],
            [
             0.5555555555555556,
             "#d8576b"
            ],
            [
             0.6666666666666666,
             "#ed7953"
            ],
            [
             0.7777777777777778,
             "#fb9f3a"
            ],
            [
             0.8888888888888888,
             "#fdca26"
            ],
            [
             1,
             "#f0f921"
            ]
           ],
           "sequentialminus": [
            [
             0,
             "#0d0887"
            ],
            [
             0.1111111111111111,
             "#46039f"
            ],
            [
             0.2222222222222222,
             "#7201a8"
            ],
            [
             0.3333333333333333,
             "#9c179e"
            ],
            [
             0.4444444444444444,
             "#bd3786"
            ],
            [
             0.5555555555555556,
             "#d8576b"
            ],
            [
             0.6666666666666666,
             "#ed7953"
            ],
            [
             0.7777777777777778,
             "#fb9f3a"
            ],
            [
             0.8888888888888888,
             "#fdca26"
            ],
            [
             1,
             "#f0f921"
            ]
           ]
          },
          "colorway": [
           "#636efa",
           "#EF553B",
           "#00cc96",
           "#ab63fa",
           "#FFA15A",
           "#19d3f3",
           "#FF6692",
           "#B6E880",
           "#FF97FF",
           "#FECB52"
          ],
          "font": {
           "color": "#2a3f5f"
          },
          "geo": {
           "bgcolor": "white",
           "lakecolor": "white",
           "landcolor": "#E5ECF6",
           "showlakes": true,
           "showland": true,
           "subunitcolor": "white"
          },
          "hoverlabel": {
           "align": "left"
          },
          "hovermode": "closest",
          "mapbox": {
           "style": "light"
          },
          "paper_bgcolor": "white",
          "plot_bgcolor": "#E5ECF6",
          "polar": {
           "angularaxis": {
            "gridcolor": "white",
            "linecolor": "white",
            "ticks": ""
           },
           "bgcolor": "#E5ECF6",
           "radialaxis": {
            "gridcolor": "white",
            "linecolor": "white",
            "ticks": ""
           }
          },
          "scene": {
           "xaxis": {
            "backgroundcolor": "#E5ECF6",
            "gridcolor": "white",
            "gridwidth": 2,
            "linecolor": "white",
            "showbackground": true,
            "ticks": "",
            "zerolinecolor": "white"
           },
           "yaxis": {
            "backgroundcolor": "#E5ECF6",
            "gridcolor": "white",
            "gridwidth": 2,
            "linecolor": "white",
            "showbackground": true,
            "ticks": "",
            "zerolinecolor": "white"
           },
           "zaxis": {
            "backgroundcolor": "#E5ECF6",
            "gridcolor": "white",
            "gridwidth": 2,
            "linecolor": "white",
            "showbackground": true,
            "ticks": "",
            "zerolinecolor": "white"
           }
          },
          "shapedefaults": {
           "line": {
            "color": "#2a3f5f"
           }
          },
          "ternary": {
           "aaxis": {
            "gridcolor": "white",
            "linecolor": "white",
            "ticks": ""
           },
           "baxis": {
            "gridcolor": "white",
            "linecolor": "white",
            "ticks": ""
           },
           "bgcolor": "#E5ECF6",
           "caxis": {
            "gridcolor": "white",
            "linecolor": "white",
            "ticks": ""
           }
          },
          "title": {
           "x": 0.05
          },
          "xaxis": {
           "automargin": true,
           "gridcolor": "white",
           "linecolor": "white",
           "ticks": "",
           "title": {
            "standoff": 15
           },
           "zerolinecolor": "white",
           "zerolinewidth": 2
          },
          "yaxis": {
           "automargin": true,
           "gridcolor": "white",
           "linecolor": "white",
           "ticks": "",
           "title": {
            "standoff": 15
           },
           "zerolinecolor": "white",
           "zerolinewidth": 2
          }
         }
        },
        "xaxis": {
         "anchor": "y",
         "domain": [
          0,
          1
         ],
         "title": {
          "text": "alpha"
         }
        },
        "yaxis": {
         "anchor": "x",
         "domain": [
          0,
          1
         ],
         "title": {
          "text": "beta"
         }
        }
       }
      },
      "text/html": [
       "<div>                            <div id=\"88d66cee-3424-49a5-a600-6015ecc464da\" class=\"plotly-graph-div\" style=\"height:525px; width:100%;\"></div>            <script type=\"text/javascript\">                require([\"plotly\"], function(Plotly) {                    window.PLOTLYENV=window.PLOTLYENV || {};                                    if (document.getElementById(\"88d66cee-3424-49a5-a600-6015ecc464da\")) {                    Plotly.newPlot(                        \"88d66cee-3424-49a5-a600-6015ecc464da\",                        [{\"hovertemplate\":\"alpha=%{x}<br>beta=%{y}<br>avg_coherence=%{marker.color}<extra></extra>\",\"legendgroup\":\"\",\"marker\":{\"color\":[-608.1485535431165,-608.2802027864212,-605.5360538638578,-598.3605316528685,-599.5714620176539,-608.0536793580137,-608.0732709991474,-605.4237084202562,-598.249562925516,-599.7737984310571,-609.3149276826641,-609.3149276826641,-611.4858805208003,-614.1612948553255,-607.3040593136639,-626.31547555048,-625.1841891603557,-621.3246729803521,-622.8085314153062,-615.2999977652555,-640.6785121436757,-640.7203900996159,-642.5946370612983,-640.2059833301283,-643.4107317550436],\"coloraxis\":\"coloraxis\",\"symbol\":\"circle\"},\"mode\":\"markers\",\"name\":\"\",\"orientation\":\"v\",\"showlegend\":false,\"x\":[0.0001,0.0001,0.0001,0.0001,0.0001,0.001,0.001,0.001,0.001,0.001,0.01,0.01,0.01,0.01,0.01,0.05,0.05,0.05,0.05,0.05,0.1,0.1,0.1,0.1,0.1],\"xaxis\":\"x\",\"y\":[0.0001,0.001,0.01,0.05,0.1,0.0001,0.001,0.01,0.05,0.1,0.0001,0.001,0.01,0.05,0.1,0.0001,0.001,0.01,0.05,0.1,0.0001,0.001,0.01,0.05,0.1],\"yaxis\":\"y\",\"type\":\"scatter\"}],                        {\"template\":{\"data\":{\"bar\":[{\"error_x\":{\"color\":\"#2a3f5f\"},\"error_y\":{\"color\":\"#2a3f5f\"},\"marker\":{\"line\":{\"color\":\"#E5ECF6\",\"width\":0.5},\"pattern\":{\"fillmode\":\"overlay\",\"size\":10,\"solidity\":0.2}},\"type\":\"bar\"}],\"barpolar\":[{\"marker\":{\"line\":{\"color\":\"#E5ECF6\",\"width\":0.5},\"pattern\":{\"fillmode\":\"overlay\",\"size\":10,\"solidity\":0.2}},\"type\":\"barpolar\"}],\"carpet\":[{\"aaxis\":{\"endlinecolor\":\"#2a3f5f\",\"gridcolor\":\"white\",\"linecolor\":\"white\",\"minorgridcolor\":\"white\",\"startlinecolor\":\"#2a3f5f\"},\"baxis\":{\"endlinecolor\":\"#2a3f5f\",\"gridcolor\":\"white\",\"linecolor\":\"white\",\"minorgridcolor\":\"white\",\"startlinecolor\":\"#2a3f5f\"},\"type\":\"carpet\"}],\"choropleth\":[{\"colorbar\":{\"outlinewidth\":0,\"ticks\":\"\"},\"type\":\"choropleth\"}],\"contour\":[{\"colorbar\":{\"outlinewidth\":0,\"ticks\":\"\"},\"colorscale\":[[0.0,\"#0d0887\"],[0.1111111111111111,\"#46039f\"],[0.2222222222222222,\"#7201a8\"],[0.3333333333333333,\"#9c179e\"],[0.4444444444444444,\"#bd3786\"],[0.5555555555555556,\"#d8576b\"],[0.6666666666666666,\"#ed7953\"],[0.7777777777777778,\"#fb9f3a\"],[0.8888888888888888,\"#fdca26\"],[1.0,\"#f0f921\"]],\"type\":\"contour\"}],\"contourcarpet\":[{\"colorbar\":{\"outlinewidth\":0,\"ticks\":\"\"},\"type\":\"contourcarpet\"}],\"heatmap\":[{\"colorbar\":{\"outlinewidth\":0,\"ticks\":\"\"},\"colorscale\":[[0.0,\"#0d0887\"],[0.1111111111111111,\"#46039f\"],[0.2222222222222222,\"#7201a8\"],[0.3333333333333333,\"#9c179e\"],[0.4444444444444444,\"#bd3786\"],[0.5555555555555556,\"#d8576b\"],[0.6666666666666666,\"#ed7953\"],[0.7777777777777778,\"#fb9f3a\"],[0.8888888888888888,\"#fdca26\"],[1.0,\"#f0f921\"]],\"type\":\"heatmap\"}],\"heatmapgl\":[{\"colorbar\":{\"outlinewidth\":0,\"ticks\":\"\"},\"colorscale\":[[0.0,\"#0d0887\"],[0.1111111111111111,\"#46039f\"],[0.2222222222222222,\"#7201a8\"],[0.3333333333333333,\"#9c179e\"],[0.4444444444444444,\"#bd3786\"],[0.5555555555555556,\"#d8576b\"],[0.6666666666666666,\"#ed7953\"],[0.7777777777777778,\"#fb9f3a\"],[0.8888888888888888,\"#fdca26\"],[1.0,\"#f0f921\"]],\"type\":\"heatmapgl\"}],\"histogram\":[{\"marker\":{\"pattern\":{\"fillmode\":\"overlay\",\"size\":10,\"solidity\":0.2}},\"type\":\"histogram\"}],\"histogram2d\":[{\"colorbar\":{\"outlinewidth\":0,\"ticks\":\"\"},\"colorscale\":[[0.0,\"#0d0887\"],[0.1111111111111111,\"#46039f\"],[0.2222222222222222,\"#7201a8\"],[0.3333333333333333,\"#9c179e\"],[0.4444444444444444,\"#bd3786\"],[0.5555555555555556,\"#d8576b\"],[0.6666666666666666,\"#ed7953\"],[0.7777777777777778,\"#fb9f3a\"],[0.8888888888888888,\"#fdca26\"],[1.0,\"#f0f921\"]],\"type\":\"histogram2d\"}],\"histogram2dcontour\":[{\"colorbar\":{\"outlinewidth\":0,\"ticks\":\"\"},\"colorscale\":[[0.0,\"#0d0887\"],[0.1111111111111111,\"#46039f\"],[0.2222222222222222,\"#7201a8\"],[0.3333333333333333,\"#9c179e\"],[0.4444444444444444,\"#bd3786\"],[0.5555555555555556,\"#d8576b\"],[0.6666666666666666,\"#ed7953\"],[0.7777777777777778,\"#fb9f3a\"],[0.8888888888888888,\"#fdca26\"],[1.0,\"#f0f921\"]],\"type\":\"histogram2dcontour\"}],\"mesh3d\":[{\"colorbar\":{\"outlinewidth\":0,\"ticks\":\"\"},\"type\":\"mesh3d\"}],\"parcoords\":[{\"line\":{\"colorbar\":{\"outlinewidth\":0,\"ticks\":\"\"}},\"type\":\"parcoords\"}],\"pie\":[{\"automargin\":true,\"type\":\"pie\"}],\"scatter\":[{\"marker\":{\"colorbar\":{\"outlinewidth\":0,\"ticks\":\"\"}},\"type\":\"scatter\"}],\"scatter3d\":[{\"line\":{\"colorbar\":{\"outlinewidth\":0,\"ticks\":\"\"}},\"marker\":{\"colorbar\":{\"outlinewidth\":0,\"ticks\":\"\"}},\"type\":\"scatter3d\"}],\"scattercarpet\":[{\"marker\":{\"colorbar\":{\"outlinewidth\":0,\"ticks\":\"\"}},\"type\":\"scattercarpet\"}],\"scattergeo\":[{\"marker\":{\"colorbar\":{\"outlinewidth\":0,\"ticks\":\"\"}},\"type\":\"scattergeo\"}],\"scattergl\":[{\"marker\":{\"colorbar\":{\"outlinewidth\":0,\"ticks\":\"\"}},\"type\":\"scattergl\"}],\"scattermapbox\":[{\"marker\":{\"colorbar\":{\"outlinewidth\":0,\"ticks\":\"\"}},\"type\":\"scattermapbox\"}],\"scatterpolar\":[{\"marker\":{\"colorbar\":{\"outlinewidth\":0,\"ticks\":\"\"}},\"type\":\"scatterpolar\"}],\"scatterpolargl\":[{\"marker\":{\"colorbar\":{\"outlinewidth\":0,\"ticks\":\"\"}},\"type\":\"scatterpolargl\"}],\"scatterternary\":[{\"marker\":{\"colorbar\":{\"outlinewidth\":0,\"ticks\":\"\"}},\"type\":\"scatterternary\"}],\"surface\":[{\"colorbar\":{\"outlinewidth\":0,\"ticks\":\"\"},\"colorscale\":[[0.0,\"#0d0887\"],[0.1111111111111111,\"#46039f\"],[0.2222222222222222,\"#7201a8\"],[0.3333333333333333,\"#9c179e\"],[0.4444444444444444,\"#bd3786\"],[0.5555555555555556,\"#d8576b\"],[0.6666666666666666,\"#ed7953\"],[0.7777777777777778,\"#fb9f3a\"],[0.8888888888888888,\"#fdca26\"],[1.0,\"#f0f921\"]],\"type\":\"surface\"}],\"table\":[{\"cells\":{\"fill\":{\"color\":\"#EBF0F8\"},\"line\":{\"color\":\"white\"}},\"header\":{\"fill\":{\"color\":\"#C8D4E3\"},\"line\":{\"color\":\"white\"}},\"type\":\"table\"}]},\"layout\":{\"annotationdefaults\":{\"arrowcolor\":\"#2a3f5f\",\"arrowhead\":0,\"arrowwidth\":1},\"autotypenumbers\":\"strict\",\"coloraxis\":{\"colorbar\":{\"outlinewidth\":0,\"ticks\":\"\"}},\"colorscale\":{\"diverging\":[[0,\"#8e0152\"],[0.1,\"#c51b7d\"],[0.2,\"#de77ae\"],[0.3,\"#f1b6da\"],[0.4,\"#fde0ef\"],[0.5,\"#f7f7f7\"],[0.6,\"#e6f5d0\"],[0.7,\"#b8e186\"],[0.8,\"#7fbc41\"],[0.9,\"#4d9221\"],[1,\"#276419\"]],\"sequential\":[[0.0,\"#0d0887\"],[0.1111111111111111,\"#46039f\"],[0.2222222222222222,\"#7201a8\"],[0.3333333333333333,\"#9c179e\"],[0.4444444444444444,\"#bd3786\"],[0.5555555555555556,\"#d8576b\"],[0.6666666666666666,\"#ed7953\"],[0.7777777777777778,\"#fb9f3a\"],[0.8888888888888888,\"#fdca26\"],[1.0,\"#f0f921\"]],\"sequentialminus\":[[0.0,\"#0d0887\"],[0.1111111111111111,\"#46039f\"],[0.2222222222222222,\"#7201a8\"],[0.3333333333333333,\"#9c179e\"],[0.4444444444444444,\"#bd3786\"],[0.5555555555555556,\"#d8576b\"],[0.6666666666666666,\"#ed7953\"],[0.7777777777777778,\"#fb9f3a\"],[0.8888888888888888,\"#fdca26\"],[1.0,\"#f0f921\"]]},\"colorway\":[\"#636efa\",\"#EF553B\",\"#00cc96\",\"#ab63fa\",\"#FFA15A\",\"#19d3f3\",\"#FF6692\",\"#B6E880\",\"#FF97FF\",\"#FECB52\"],\"font\":{\"color\":\"#2a3f5f\"},\"geo\":{\"bgcolor\":\"white\",\"lakecolor\":\"white\",\"landcolor\":\"#E5ECF6\",\"showlakes\":true,\"showland\":true,\"subunitcolor\":\"white\"},\"hoverlabel\":{\"align\":\"left\"},\"hovermode\":\"closest\",\"mapbox\":{\"style\":\"light\"},\"paper_bgcolor\":\"white\",\"plot_bgcolor\":\"#E5ECF6\",\"polar\":{\"angularaxis\":{\"gridcolor\":\"white\",\"linecolor\":\"white\",\"ticks\":\"\"},\"bgcolor\":\"#E5ECF6\",\"radialaxis\":{\"gridcolor\":\"white\",\"linecolor\":\"white\",\"ticks\":\"\"}},\"scene\":{\"xaxis\":{\"backgroundcolor\":\"#E5ECF6\",\"gridcolor\":\"white\",\"gridwidth\":2,\"linecolor\":\"white\",\"showbackground\":true,\"ticks\":\"\",\"zerolinecolor\":\"white\"},\"yaxis\":{\"backgroundcolor\":\"#E5ECF6\",\"gridcolor\":\"white\",\"gridwidth\":2,\"linecolor\":\"white\",\"showbackground\":true,\"ticks\":\"\",\"zerolinecolor\":\"white\"},\"zaxis\":{\"backgroundcolor\":\"#E5ECF6\",\"gridcolor\":\"white\",\"gridwidth\":2,\"linecolor\":\"white\",\"showbackground\":true,\"ticks\":\"\",\"zerolinecolor\":\"white\"}},\"shapedefaults\":{\"line\":{\"color\":\"#2a3f5f\"}},\"ternary\":{\"aaxis\":{\"gridcolor\":\"white\",\"linecolor\":\"white\",\"ticks\":\"\"},\"baxis\":{\"gridcolor\":\"white\",\"linecolor\":\"white\",\"ticks\":\"\"},\"bgcolor\":\"#E5ECF6\",\"caxis\":{\"gridcolor\":\"white\",\"linecolor\":\"white\",\"ticks\":\"\"}},\"title\":{\"x\":0.05},\"xaxis\":{\"automargin\":true,\"gridcolor\":\"white\",\"linecolor\":\"white\",\"ticks\":\"\",\"title\":{\"standoff\":15},\"zerolinecolor\":\"white\",\"zerolinewidth\":2},\"yaxis\":{\"automargin\":true,\"gridcolor\":\"white\",\"linecolor\":\"white\",\"ticks\":\"\",\"title\":{\"standoff\":15},\"zerolinecolor\":\"white\",\"zerolinewidth\":2}}},\"xaxis\":{\"anchor\":\"y\",\"domain\":[0.0,1.0],\"title\":{\"text\":\"alpha\"}},\"yaxis\":{\"anchor\":\"x\",\"domain\":[0.0,1.0],\"title\":{\"text\":\"beta\"}},\"coloraxis\":{\"colorbar\":{\"title\":{\"text\":\"avg_coherence\"}},\"colorscale\":[[0.0,\"#0d0887\"],[0.1111111111111111,\"#46039f\"],[0.2222222222222222,\"#7201a8\"],[0.3333333333333333,\"#9c179e\"],[0.4444444444444444,\"#bd3786\"],[0.5555555555555556,\"#d8576b\"],[0.6666666666666666,\"#ed7953\"],[0.7777777777777778,\"#fb9f3a\"],[0.8888888888888888,\"#fdca26\"],[1.0,\"#f0f921\"]]},\"legend\":{\"tracegroupgap\":0},\"margin\":{\"t\":60}},                        {\"responsive\": true}                    ).then(function(){\n",
       "                            \n",
       "var gd = document.getElementById('88d66cee-3424-49a5-a600-6015ecc464da');\n",
       "var x = new MutationObserver(function (mutations, observer) {{\n",
       "        var display = window.getComputedStyle(gd).display;\n",
       "        if (!display || display === 'none') {{\n",
       "            console.log([gd, 'removed!']);\n",
       "            Plotly.purge(gd);\n",
       "            observer.disconnect();\n",
       "        }}\n",
       "}});\n",
       "\n",
       "// Listen for the removal of the full notebook cells\n",
       "var notebookContainer = gd.closest('#notebook-container');\n",
       "if (notebookContainer) {{\n",
       "    x.observe(notebookContainer, {childList: true});\n",
       "}}\n",
       "\n",
       "// Listen for the clearing of the current output cell\n",
       "var outputEl = gd.closest('.output');\n",
       "if (outputEl) {{\n",
       "    x.observe(outputEl, {childList: true});\n",
       "}}\n",
       "\n",
       "                        })                };                });            </script>        </div>"
      ]
     },
     "metadata": {},
     "output_type": "display_data"
    }
   ],
   "source": [
    "fig = px.scatter(params_df[params_df['vectorizer']=='tf-idf'], x=\"alpha\", y=\"beta\", color=\"avg_coherence\")\n",
    "fig.show()"
   ]
  },
  {
   "cell_type": "markdown",
   "id": "a4000d9d",
   "metadata": {},
   "source": [
    "Consindering LDA with TF-IDF values assuming 28 topics, the value of alpha parameter is suggested at **0.001** and the value of beta suggested at **0.05**. Average coherence of around **-598.24**"
   ]
  },
  {
   "cell_type": "markdown",
   "id": "ed25ccf0",
   "metadata": {},
   "source": [
    "### Change LDA generative process parameters for TF."
   ]
  },
  {
   "cell_type": "code",
   "execution_count": 172,
   "id": "f1ef78ba",
   "metadata": {},
   "outputs": [
    {
     "name": "stdout",
     "output_type": "stream",
     "text": [
      "Topic 0:  ['rights', 'court', 'interview qatar name', 'workers', 'protect identity amnesty', 'migrant', 'name changed protect', 'human', 'al ajami', 'qatar']\n",
      "Topic 1:  ['death', 'bahadur', 'yam', 'death certificate', 'tul', 'case study case', 'study case', 'private prime lives', 'private prime', 'provides information underlying']\n",
      "Topic 2:  ['rights', 'information', 'ratified', 'human', 'death', 'law', 'people', 'usa', 'optional protocol', 'convention']\n",
      "Topic 3:  ['protocol', 'ratified', 'rights', 'relating', 'convention', 'geneva', 'geneva conventions', 'optional protocol', 'conventions', 'optional']\n",
      "Topic 4:  ['rights', 'special', 'rapporteur', 'special rapporteur', 'human rights', 'human', 'initial report', 'initial', 'ratified', 'including']\n",
      "Topic 5:  ['workers', 'qatar', 'identity amnesty international', 'name changed protect', 'identity amnesty', 'law', 'migrant', 'death', 'protect identity amnesty', 'interview qatar name']\n",
      "Topic 6:  ['fifa', 'cup', 'world', 'world cup', 'human rights', 'human', 'rights', 'welfare', 'supreme committee', 'aspire']\n",
      "Topic 7:  ['refugees', 'welcome', 'survey', 'would welcome', 'people worldwide', 'people', 'governments', 'touch', 'greece', 'hosting']\n",
      "Topic 8:  ['eversendai', 'name changed protect', 'interview qatar name', 'death', 'protect identity amnesty', 'death penalty', 'seven hills', 'identity amnesty', 'recruiter', 'migrant']\n",
      "Topic 9:  ['face exploitation', 'towns', 'villages', 'rights', 'court', 'workers', 'law', 'migrant', 'migrant workers', 'qatar']\n",
      "Topic 10:  ['ratified', 'rights', 'protocol', 'convention', 'human', 'optional protocol', 'human rights', 'relating', 'ratified entered', 'optional']\n",
      "Topic 11:  ['midmac six construct', 'midmac six', 'midmac', 'six construct', 'six construct jv', 'construct jv', 'human rights', 'human', 'jv amnesty international', 'seven hills']\n",
      "Topic 12:  ['flogging', 'punishment', 'lashes', 'shari', 'punishments', 'stoning', 'amputation', 'flogging sentences', 'administered', 'applied']\n",
      "Topic 13:  ['eversendai', 'human', 'rights', 'ratified', 'human rights', 'six construct', 'protocol', 'midmac', 'six construct jv', 'khalifa stadium']\n",
      "Topic 14:  ['signatories', 'bringing', 'rights', 'special', 'crc', 'human rights', 'human', 'child', 'rapporteur', 'special rapporteur']\n",
      "Topic 15:  ['rights', 'human', 'human rights', 'economic', 'social', 'cultural', 'convention', 'economic social', 'cultural rights', 'economic social cultural']\n",
      "Topic 16:  ['sujan', 'jamal', 'taka', 'family said', 'nakheel', 'rights', 'death', 'law', 'bangladeshi', 'human']\n",
      "Topic 17:  ['violence', 'rights', 'ratified', 'protocol', 'convention', 'women', 'human', 'torture', 'optional protocol', 'optional']\n",
      "Topic 18:  ['rights', 'ensure', 'torture', 'human rights', 'including', 'human', 'committee', 'un', 'law', 'death']\n",
      "Topic 19:  ['human rights', 'rights', 'human', 'eversendai', 'death', 'law', 'italy', 'death penalty', 'torture', 'ratified']\n",
      "Topic 20:  ['kong', 'hong', 'hong kong', 'rule', 'policies submission', 'abusive labour migration', 'province', 'un committee migrant', 'policies submission un', 'china']\n",
      "Topic 21:  ['death', 'death penalty', 'penalty', 'drug', 'rights', 'human rights', 'human', 'people', 'executions', 'drugs']\n",
      "Topic 22:  ['overdue', 'special', 'years overdue', 'years', 'report', 'periodic', 'rapporteur', 'overdue years', 'reports', 'overdue years overdue']\n",
      "Topic 23:  ['kidney', 'autopsies', 'professor vivekanand jha', 'vivekanand', 'disease', 'strain mitigating strategies', 'professor vivekanand', 'jha', 'stress impacts', 'heat protection measures']\n",
      "Topic 24:  ['indigenous', 'peoples', 'indigenous peoples', 'lands', 'territories', 'rights indigenous', 'rights indigenous peoples', 'informed consent', 'un declaration', 'acquired']\n",
      "Topic 25:  ['workers', 'construct jv', 'midmac', 'six construct jv', 'eversendai', 'six construct', 'nakheel', 'rights', 'midmac six', 'migrant']\n",
      "Topic 26:  ['rights', 'domestic', 'workers', 'human', 'domestic workers', 'law', 'women', 'qatar', 'human rights', 'including']\n",
      "Topic 27:  ['workers', 'qatar', 'migrant', 'labour', 'migrant workers', 'world', 'rights', 'cup', 'world cup', 'work']\n"
     ]
    }
   ],
   "source": [
    "lda = LatentDirichletAllocation(n_components = 28, # let us stay with 30, as that is what topic coherence initially recommended \n",
    "                                doc_topic_prior = 0.05, #alpha\n",
    "                                topic_word_prior = 0.0001,  #beta\n",
    "                                learning_method = 'online', \n",
    "                                learning_offset = 50.0,\n",
    "                                max_iter = 5, \n",
    "                                random_state = 7000)\n",
    "lda.fit(tf) # TF for now\n",
    "\n",
    "for index, component in enumerate(lda.components_): #taking model's components \n",
    "                                                    #(values from reconstructed Document-Term Matrix)\n",
    "    zipped = zip(tf_feature_names, component) #taking together tokens' names with components\n",
    "    top_terms_key=sorted(zipped, key = lambda t: t[1], reverse=True)[:10] #top 10 terms per topic\n",
    "    top_terms_list=list(dict(top_terms_key).keys()) #taking only tokens, no weights\n",
    "    \n",
    "    print(\"Topic \"+str(index)+\": \",top_terms_list) #prints top 10 tokens per topic"
   ]
  },
  {
   "cell_type": "markdown",
   "id": "b875d0b9",
   "metadata": {},
   "source": [
    "**There is a bit of a change in our results. Some additional topics were noted i.e**\n",
    "\n",
    "- Topic 1 - **Yam Bahadur (from Nepal)** death and death certificate. He who was one of the migrant worker who died in Qatar \n",
    "- Topic 20 - Abusive labour migrations from **Hong Kong China** and UN committee for migrants\n",
    "- Topic 23 - **Kidney**, autopsies, disease, stress impact and **Professor Vivekanand Jha**. Professor Vivekanand Jha is the Executive Director at The George Institute for Global Health, India, Chair of Global Kidney Health, Faculty of Medicine, Imperial College of London"
   ]
  },
  {
   "cell_type": "markdown",
   "id": "ba3d6ae9",
   "metadata": {},
   "source": [
    "### Change LDA generative process parameters for TFIDF."
   ]
  },
  {
   "cell_type": "code",
   "execution_count": 176,
   "id": "a0b1f62d",
   "metadata": {},
   "outputs": [
    {
     "name": "stdout",
     "output_type": "stream",
     "text": [
      "Topic 0:  ['mentioned', 'new', 'pilot', 'body responsible', 'abuses facing migrant', 'worker representatives', 'provisions labour', 'disaggregated data', 'workers others', 'interna']\n",
      "Topic 1:  ['ratified', 'geneva conventions', 'protocol', 'ratified entered', 'conventions relating', 'geneva conventions relating', 'ratified protocol', 'relating status', 'protocol crc', 'ratified optional']\n",
      "Topic 2:  ['forced labour', 'forced', 'workers', 'supreme committee', 'refugees', 'people worldwide', 'qatar', 'krantz', 'labour', 'bad']\n",
      "Topic 3:  ['workers', 'qatar', 'rights', 'migrant', 'labour', 'human', 'domestic', 'migrant workers', 'human rights', 'domestic workers']\n",
      "Topic 4:  ['workers', 'qatar', 'migrant', 'world cup', 'migrant workers', 'world', 'migration spotlight', 'migration spotlight qatar', 'featured report', 'sector ahead']\n",
      "Topic 5:  ['sc', 'torture', 'workers', 'filed', 'qatar', 'torture ill', 'entry exit', 'covenant civil', 'vulnerable', 'accommodation standards']\n",
      "Topic 6:  ['workers', 'detainees', 'law', 'rights', 'security', 'private security companies', 'migrant workers', 'relating protection', 'procedure', 'submission']\n",
      "Topic 7:  ['ratified', 'protocol', 'geneva conventions', 'optional protocol', 'geneva', 'sc', 'ratified optional', 'qmc', 'day', 'ratified optional protocol']\n",
      "Topic 8:  ['krantz', 'seg', 'workers', 'qatar', 'labour', 'poem', 'migrant', 'india', 'would like', 'since arriving qatar']\n",
      "Topic 9:  ['workers', 'rights', 'labour', 'remote interview', 'law', 'qatar', 'remote', 'qar', 'employers', 'world cup']\n",
      "Topic 10:  ['overdue', 'years overdue', 'overdue years', 'overdue years overdue', 'years overdue years', 'conventions relating', 'geneva conventions', 'geneva conventions relating', 'report iccpr', 'periodic reports']\n",
      "Topic 11:  ['workers', 'qatar', 'rights', 'human', 'labour', 'human rights', 'migrant', 'law', 'migrant workers', 'company']\n",
      "Topic 12:  ['exploitation migrant construction', 'fast', 'retained', 'points', 'human', 'noted content document', 'around workers', 'truth', 'dla', 'act death']\n",
      "Topic 13:  ['workers', 'seg', 'qatar', 'law', 'qmc', 'pay', 'krantz', 'ratified', 'optional protocol', 'convention']\n",
      "Topic 14:  ['workers', 'qatar', 'special', 'labour', 'human rights', 'fifa supreme committee', 'discrimination', 'torture', 'trafficking persons', 'fifa']\n",
      "Topic 15:  ['workers', 'qatar', 'supreme committee', 'un guiding', 'world cup', 'migrant', 'guiding', 'reality', 'interview doha', 'seek']\n",
      "Topic 16:  ['report op', 'crc sale', 'claims employers', 'qatar', 'activists', 'area', 'violence', 'women', 'lawyers', 'rights']\n",
      "Topic 17:  ['workers', 'labour', 'qatar', 'law', 'employers', 'migrant', 'sponsorship', 'country', 'migrant workers', 'company']\n",
      "Topic 18:  ['al', 'qatar', 'workers', 'labour', 'company', 'ajami', 'al ajami', 'security', 'migrant', 'torture']\n",
      "Topic 19:  ['ratified', 'workers', 'protocol', 'overdue', 'rights', 'security', 'convention', 'labour', 'private', 'years overdue']\n",
      "Topic 20:  ['migrant', 'workers', 'qatar', 'labour exploitation', 'migrant workers', 'africa review amnesty', 'torture', 'prolonged periods', 'return home countries', 'rights qatar']\n",
      "Topic 21:  ['protocol', 'tickets', 'international ltd peter', 'women girls', 'ratified', 'effective access', 'forcibly', 'ministry justice', 'employers', 'international labour']\n",
      "Topic 22:  ['migrant', 'labour migration policies', 'workers', 'international best', 'thailand', 'open', 'attested', 'migrant workers', 'ratified', 'ap']\n",
      "Topic 23:  ['interview', 'remote', 'remote interview', 'activists', 'interview remote', 'security', 'company', 'day', 'enforce', 'interview remote interview']\n",
      "Topic 24:  ['workers', 'qatar', 'migrant', 'nepali migrant', 'ilo', 'malaysia', 'kathmandu', 'special', 'file', 'low income migrants']\n",
      "Topic 25:  ['system', 'workers', 'violating', 'qatar', 'law', 'rights', 'impossible', 'sponsor must employer', 'absconding', 'employer']\n",
      "Topic 26:  ['commons', 'creative commons', 'creative', 'material', 'copyright', 'licence', 'political ideology', 'ideology', 'government political', 'government political ideology']\n",
      "Topic 27:  ['qatar', 'outstanding', 'camp', 'ambassador', 'islamic', 'qatar amnesty international', 'al', 'failing', 'conscience', 'wage']\n"
     ]
    }
   ],
   "source": [
    "lda = LatentDirichletAllocation(n_components = 28, # let us stay with 30, as that is what topic coherence initially recommended \n",
    "                                doc_topic_prior = 0.001,\n",
    "                                topic_word_prior = 0.05,\n",
    "                                learning_method = 'online', \n",
    "                                learning_offset = 50.0,\n",
    "                                max_iter = 5, \n",
    "                                random_state = 42)\n",
    "lda.fit(tfidf) # TF-IDF now\n",
    "\n",
    "for index, component in enumerate(lda.components_): #taking model's components \n",
    "                                                    #(values from reconstructed Document-Term Matrix)\n",
    "    zipped = zip(tf_feature_names, component) #taking together tokens' names with components\n",
    "    top_terms_key=sorted(zipped, key = lambda t: t[1], reverse=True)[:10] #top 10 terms per topic\n",
    "    top_terms_list=list(dict(top_terms_key).keys()) #taking only tokens, no weights\n",
    "    \n",
    "    print(\"Topic \"+str(index)+\": \",top_terms_list) #prints top 10 tokens per topic"
   ]
  },
  {
   "cell_type": "markdown",
   "id": "2447b3bc",
   "metadata": {},
   "source": [
    "Results are a bit more interpretable than before optimising parameters and topics are a bit dinstict."
   ]
  },
  {
   "cell_type": "markdown",
   "id": "29751211",
   "metadata": {},
   "source": [
    "# Conclusion"
   ]
  },
  {
   "cell_type": "markdown",
   "id": "2b9f3fcb",
   "metadata": {},
   "source": [
    "Results of the model are impressive as we are able to derive meaningful and interpretable results from **Latent Dirichlet Allocation (LDA)** model using both Tfidf and CountVectorizer(). Between the two, CountVectorizer() seemed to derive more interpretable results and dinstict Topics. However TfidfVectorizer() has other important topics that are NOT included in the CountVectorizer(). \n",
    "\n",
    "Comparing LDA model results to *WordCloud Visualisation of document topics*, we realise that Topics derived from the model included words such as **Migrant workers, Human rights, Abuse, illtreatment, Poet Mohammed, FIFA, Women, Private Security, Mohammed Alajali, Death penalty, UN, Domestic workers**. Therefore, we can conclude that there is similarity between the documents topics and the results of the Model\n",
    "\n",
    "**Other Topic Modelling algorithms will used to see if we can get better results from LDA i.e., Latent Semantic Analysis (LSA).**"
   ]
  }
 ],
 "metadata": {
  "kernelspec": {
   "display_name": "Python 3 (ipykernel)",
   "language": "python",
   "name": "python3"
  },
  "language_info": {
   "codemirror_mode": {
    "name": "ipython",
    "version": 3
   },
   "file_extension": ".py",
   "mimetype": "text/x-python",
   "name": "python",
   "nbconvert_exporter": "python",
   "pygments_lexer": "ipython3",
   "version": "3.9.6"
  }
 },
 "nbformat": 4,
 "nbformat_minor": 5
}
